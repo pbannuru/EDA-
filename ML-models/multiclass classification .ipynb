{
 "cells": [
  {
   "cell_type": "code",
   "execution_count": 22,
   "id": "ff6deeba",
   "metadata": {
    "ExecuteTime": {
     "end_time": "2022-09-30T06:20:09.605511Z",
     "start_time": "2022-09-30T06:20:09.599499Z"
    }
   },
   "outputs": [],
   "source": [
    "import pandas as pd\n",
    "import numpy as np\n",
    "from sklearn.ensemble import RandomForestClassifier"
   ]
  },
  {
   "cell_type": "code",
   "execution_count": 10,
   "id": "120e11fa",
   "metadata": {
    "ExecuteTime": {
     "end_time": "2022-09-30T05:44:12.580933Z",
     "start_time": "2022-09-30T05:44:12.549454Z"
    }
   },
   "outputs": [],
   "source": [
    "df= pd.read_csv(r'C:\\Users\\pbann\\OneDrive\\Desktop\\science\\data set\\fetal_health\\train.csv')"
   ]
  },
  {
   "cell_type": "code",
   "execution_count": 11,
   "id": "91de4434",
   "metadata": {
    "ExecuteTime": {
     "end_time": "2022-09-30T05:44:14.027875Z",
     "start_time": "2022-09-30T05:44:13.999849Z"
    },
    "scrolled": true
   },
   "outputs": [
    {
     "data": {
      "text/html": [
       "<div>\n",
       "<style scoped>\n",
       "    .dataframe tbody tr th:only-of-type {\n",
       "        vertical-align: middle;\n",
       "    }\n",
       "\n",
       "    .dataframe tbody tr th {\n",
       "        vertical-align: top;\n",
       "    }\n",
       "\n",
       "    .dataframe thead th {\n",
       "        text-align: right;\n",
       "    }\n",
       "</style>\n",
       "<table border=\"1\" class=\"dataframe\">\n",
       "  <thead>\n",
       "    <tr style=\"text-align: right;\">\n",
       "      <th></th>\n",
       "      <th>baseline value</th>\n",
       "      <th>accelerations</th>\n",
       "      <th>fetal_movement</th>\n",
       "      <th>uterine_contractions</th>\n",
       "      <th>light_decelerations</th>\n",
       "      <th>severe_decelerations</th>\n",
       "      <th>prolongued_decelerations</th>\n",
       "      <th>abnormal_short_term_variability</th>\n",
       "      <th>mean_value_of_short_term_variability</th>\n",
       "      <th>percentage_of_time_with_abnormal_long_term_variability</th>\n",
       "      <th>...</th>\n",
       "      <th>histogram_min</th>\n",
       "      <th>histogram_max</th>\n",
       "      <th>histogram_number_of_peaks</th>\n",
       "      <th>histogram_number_of_zeroes</th>\n",
       "      <th>histogram_mode</th>\n",
       "      <th>histogram_mean</th>\n",
       "      <th>histogram_median</th>\n",
       "      <th>histogram_variance</th>\n",
       "      <th>histogram_tendency</th>\n",
       "      <th>fetal_health</th>\n",
       "    </tr>\n",
       "  </thead>\n",
       "  <tbody>\n",
       "    <tr>\n",
       "      <th>0</th>\n",
       "      <td>142.0</td>\n",
       "      <td>0.000</td>\n",
       "      <td>0.000</td>\n",
       "      <td>0.007</td>\n",
       "      <td>0.000</td>\n",
       "      <td>0.0</td>\n",
       "      <td>0.000</td>\n",
       "      <td>58.0</td>\n",
       "      <td>0.4</td>\n",
       "      <td>9.0</td>\n",
       "      <td>...</td>\n",
       "      <td>136.0</td>\n",
       "      <td>156.0</td>\n",
       "      <td>0.0</td>\n",
       "      <td>0.0</td>\n",
       "      <td>148.0</td>\n",
       "      <td>147.0</td>\n",
       "      <td>149.0</td>\n",
       "      <td>1.0</td>\n",
       "      <td>0.0</td>\n",
       "      <td>1.0</td>\n",
       "    </tr>\n",
       "    <tr>\n",
       "      <th>1</th>\n",
       "      <td>122.0</td>\n",
       "      <td>0.000</td>\n",
       "      <td>0.000</td>\n",
       "      <td>0.006</td>\n",
       "      <td>0.002</td>\n",
       "      <td>0.0</td>\n",
       "      <td>0.000</td>\n",
       "      <td>27.0</td>\n",
       "      <td>1.4</td>\n",
       "      <td>4.0</td>\n",
       "      <td>...</td>\n",
       "      <td>91.0</td>\n",
       "      <td>144.0</td>\n",
       "      <td>4.0</td>\n",
       "      <td>0.0</td>\n",
       "      <td>126.0</td>\n",
       "      <td>120.0</td>\n",
       "      <td>122.0</td>\n",
       "      <td>6.0</td>\n",
       "      <td>0.0</td>\n",
       "      <td>1.0</td>\n",
       "    </tr>\n",
       "    <tr>\n",
       "      <th>2</th>\n",
       "      <td>129.0</td>\n",
       "      <td>0.005</td>\n",
       "      <td>0.003</td>\n",
       "      <td>0.001</td>\n",
       "      <td>0.000</td>\n",
       "      <td>0.0</td>\n",
       "      <td>0.000</td>\n",
       "      <td>34.0</td>\n",
       "      <td>1.7</td>\n",
       "      <td>0.0</td>\n",
       "      <td>...</td>\n",
       "      <td>78.0</td>\n",
       "      <td>196.0</td>\n",
       "      <td>10.0</td>\n",
       "      <td>0.0</td>\n",
       "      <td>137.0</td>\n",
       "      <td>136.0</td>\n",
       "      <td>137.0</td>\n",
       "      <td>6.0</td>\n",
       "      <td>0.0</td>\n",
       "      <td>1.0</td>\n",
       "    </tr>\n",
       "    <tr>\n",
       "      <th>3</th>\n",
       "      <td>136.0</td>\n",
       "      <td>0.006</td>\n",
       "      <td>0.000</td>\n",
       "      <td>0.008</td>\n",
       "      <td>0.000</td>\n",
       "      <td>0.0</td>\n",
       "      <td>0.000</td>\n",
       "      <td>45.0</td>\n",
       "      <td>0.8</td>\n",
       "      <td>2.0</td>\n",
       "      <td>...</td>\n",
       "      <td>129.0</td>\n",
       "      <td>158.0</td>\n",
       "      <td>2.0</td>\n",
       "      <td>0.0</td>\n",
       "      <td>144.0</td>\n",
       "      <td>143.0</td>\n",
       "      <td>145.0</td>\n",
       "      <td>1.0</td>\n",
       "      <td>0.0</td>\n",
       "      <td>1.0</td>\n",
       "    </tr>\n",
       "    <tr>\n",
       "      <th>4</th>\n",
       "      <td>144.0</td>\n",
       "      <td>0.000</td>\n",
       "      <td>0.000</td>\n",
       "      <td>0.006</td>\n",
       "      <td>0.000</td>\n",
       "      <td>0.0</td>\n",
       "      <td>0.000</td>\n",
       "      <td>32.0</td>\n",
       "      <td>1.0</td>\n",
       "      <td>0.0</td>\n",
       "      <td>...</td>\n",
       "      <td>122.0</td>\n",
       "      <td>160.0</td>\n",
       "      <td>1.0</td>\n",
       "      <td>0.0</td>\n",
       "      <td>150.0</td>\n",
       "      <td>147.0</td>\n",
       "      <td>149.0</td>\n",
       "      <td>2.0</td>\n",
       "      <td>1.0</td>\n",
       "      <td>1.0</td>\n",
       "    </tr>\n",
       "    <tr>\n",
       "      <th>...</th>\n",
       "      <td>...</td>\n",
       "      <td>...</td>\n",
       "      <td>...</td>\n",
       "      <td>...</td>\n",
       "      <td>...</td>\n",
       "      <td>...</td>\n",
       "      <td>...</td>\n",
       "      <td>...</td>\n",
       "      <td>...</td>\n",
       "      <td>...</td>\n",
       "      <td>...</td>\n",
       "      <td>...</td>\n",
       "      <td>...</td>\n",
       "      <td>...</td>\n",
       "      <td>...</td>\n",
       "      <td>...</td>\n",
       "      <td>...</td>\n",
       "      <td>...</td>\n",
       "      <td>...</td>\n",
       "      <td>...</td>\n",
       "      <td>...</td>\n",
       "    </tr>\n",
       "    <tr>\n",
       "      <th>1695</th>\n",
       "      <td>129.0</td>\n",
       "      <td>0.000</td>\n",
       "      <td>0.001</td>\n",
       "      <td>0.006</td>\n",
       "      <td>0.008</td>\n",
       "      <td>0.0</td>\n",
       "      <td>0.002</td>\n",
       "      <td>65.0</td>\n",
       "      <td>2.8</td>\n",
       "      <td>0.0</td>\n",
       "      <td>...</td>\n",
       "      <td>50.0</td>\n",
       "      <td>151.0</td>\n",
       "      <td>7.0</td>\n",
       "      <td>2.0</td>\n",
       "      <td>105.0</td>\n",
       "      <td>86.0</td>\n",
       "      <td>112.0</td>\n",
       "      <td>13.0</td>\n",
       "      <td>0.0</td>\n",
       "      <td>3.0</td>\n",
       "    </tr>\n",
       "    <tr>\n",
       "      <th>1696</th>\n",
       "      <td>142.0</td>\n",
       "      <td>0.001</td>\n",
       "      <td>0.003</td>\n",
       "      <td>0.001</td>\n",
       "      <td>0.002</td>\n",
       "      <td>0.0</td>\n",
       "      <td>0.000</td>\n",
       "      <td>55.0</td>\n",
       "      <td>1.3</td>\n",
       "      <td>10.0</td>\n",
       "      <td>...</td>\n",
       "      <td>52.0</td>\n",
       "      <td>167.0</td>\n",
       "      <td>15.0</td>\n",
       "      <td>3.0</td>\n",
       "      <td>148.0</td>\n",
       "      <td>142.0</td>\n",
       "      <td>147.0</td>\n",
       "      <td>20.0</td>\n",
       "      <td>1.0</td>\n",
       "      <td>1.0</td>\n",
       "    </tr>\n",
       "    <tr>\n",
       "      <th>1697</th>\n",
       "      <td>147.0</td>\n",
       "      <td>0.013</td>\n",
       "      <td>0.000</td>\n",
       "      <td>0.010</td>\n",
       "      <td>0.000</td>\n",
       "      <td>0.0</td>\n",
       "      <td>0.000</td>\n",
       "      <td>36.0</td>\n",
       "      <td>1.2</td>\n",
       "      <td>0.0</td>\n",
       "      <td>...</td>\n",
       "      <td>132.0</td>\n",
       "      <td>174.0</td>\n",
       "      <td>2.0</td>\n",
       "      <td>0.0</td>\n",
       "      <td>157.0</td>\n",
       "      <td>157.0</td>\n",
       "      <td>158.0</td>\n",
       "      <td>2.0</td>\n",
       "      <td>0.0</td>\n",
       "      <td>1.0</td>\n",
       "    </tr>\n",
       "    <tr>\n",
       "      <th>1698</th>\n",
       "      <td>130.0</td>\n",
       "      <td>0.003</td>\n",
       "      <td>0.000</td>\n",
       "      <td>0.007</td>\n",
       "      <td>0.000</td>\n",
       "      <td>0.0</td>\n",
       "      <td>0.000</td>\n",
       "      <td>33.0</td>\n",
       "      <td>1.1</td>\n",
       "      <td>0.0</td>\n",
       "      <td>...</td>\n",
       "      <td>103.0</td>\n",
       "      <td>156.0</td>\n",
       "      <td>3.0</td>\n",
       "      <td>0.0</td>\n",
       "      <td>133.0</td>\n",
       "      <td>133.0</td>\n",
       "      <td>134.0</td>\n",
       "      <td>4.0</td>\n",
       "      <td>0.0</td>\n",
       "      <td>1.0</td>\n",
       "    </tr>\n",
       "    <tr>\n",
       "      <th>1699</th>\n",
       "      <td>123.0</td>\n",
       "      <td>0.004</td>\n",
       "      <td>0.007</td>\n",
       "      <td>0.000</td>\n",
       "      <td>0.000</td>\n",
       "      <td>0.0</td>\n",
       "      <td>0.000</td>\n",
       "      <td>56.0</td>\n",
       "      <td>0.7</td>\n",
       "      <td>0.0</td>\n",
       "      <td>...</td>\n",
       "      <td>81.0</td>\n",
       "      <td>152.0</td>\n",
       "      <td>4.0</td>\n",
       "      <td>0.0</td>\n",
       "      <td>127.0</td>\n",
       "      <td>129.0</td>\n",
       "      <td>131.0</td>\n",
       "      <td>4.0</td>\n",
       "      <td>1.0</td>\n",
       "      <td>1.0</td>\n",
       "    </tr>\n",
       "  </tbody>\n",
       "</table>\n",
       "<p>1700 rows × 22 columns</p>\n",
       "</div>"
      ],
      "text/plain": [
       "      baseline value  accelerations  fetal_movement  uterine_contractions  \\\n",
       "0              142.0          0.000           0.000                 0.007   \n",
       "1              122.0          0.000           0.000                 0.006   \n",
       "2              129.0          0.005           0.003                 0.001   \n",
       "3              136.0          0.006           0.000                 0.008   \n",
       "4              144.0          0.000           0.000                 0.006   \n",
       "...              ...            ...             ...                   ...   \n",
       "1695           129.0          0.000           0.001                 0.006   \n",
       "1696           142.0          0.001           0.003                 0.001   \n",
       "1697           147.0          0.013           0.000                 0.010   \n",
       "1698           130.0          0.003           0.000                 0.007   \n",
       "1699           123.0          0.004           0.007                 0.000   \n",
       "\n",
       "      light_decelerations  severe_decelerations  prolongued_decelerations  \\\n",
       "0                   0.000                   0.0                     0.000   \n",
       "1                   0.002                   0.0                     0.000   \n",
       "2                   0.000                   0.0                     0.000   \n",
       "3                   0.000                   0.0                     0.000   \n",
       "4                   0.000                   0.0                     0.000   \n",
       "...                   ...                   ...                       ...   \n",
       "1695                0.008                   0.0                     0.002   \n",
       "1696                0.002                   0.0                     0.000   \n",
       "1697                0.000                   0.0                     0.000   \n",
       "1698                0.000                   0.0                     0.000   \n",
       "1699                0.000                   0.0                     0.000   \n",
       "\n",
       "      abnormal_short_term_variability  mean_value_of_short_term_variability  \\\n",
       "0                                58.0                                   0.4   \n",
       "1                                27.0                                   1.4   \n",
       "2                                34.0                                   1.7   \n",
       "3                                45.0                                   0.8   \n",
       "4                                32.0                                   1.0   \n",
       "...                               ...                                   ...   \n",
       "1695                             65.0                                   2.8   \n",
       "1696                             55.0                                   1.3   \n",
       "1697                             36.0                                   1.2   \n",
       "1698                             33.0                                   1.1   \n",
       "1699                             56.0                                   0.7   \n",
       "\n",
       "      percentage_of_time_with_abnormal_long_term_variability  ...  \\\n",
       "0                                                   9.0       ...   \n",
       "1                                                   4.0       ...   \n",
       "2                                                   0.0       ...   \n",
       "3                                                   2.0       ...   \n",
       "4                                                   0.0       ...   \n",
       "...                                                 ...       ...   \n",
       "1695                                                0.0       ...   \n",
       "1696                                               10.0       ...   \n",
       "1697                                                0.0       ...   \n",
       "1698                                                0.0       ...   \n",
       "1699                                                0.0       ...   \n",
       "\n",
       "      histogram_min  histogram_max  histogram_number_of_peaks  \\\n",
       "0             136.0          156.0                        0.0   \n",
       "1              91.0          144.0                        4.0   \n",
       "2              78.0          196.0                       10.0   \n",
       "3             129.0          158.0                        2.0   \n",
       "4             122.0          160.0                        1.0   \n",
       "...             ...            ...                        ...   \n",
       "1695           50.0          151.0                        7.0   \n",
       "1696           52.0          167.0                       15.0   \n",
       "1697          132.0          174.0                        2.0   \n",
       "1698          103.0          156.0                        3.0   \n",
       "1699           81.0          152.0                        4.0   \n",
       "\n",
       "      histogram_number_of_zeroes  histogram_mode  histogram_mean  \\\n",
       "0                            0.0           148.0           147.0   \n",
       "1                            0.0           126.0           120.0   \n",
       "2                            0.0           137.0           136.0   \n",
       "3                            0.0           144.0           143.0   \n",
       "4                            0.0           150.0           147.0   \n",
       "...                          ...             ...             ...   \n",
       "1695                         2.0           105.0            86.0   \n",
       "1696                         3.0           148.0           142.0   \n",
       "1697                         0.0           157.0           157.0   \n",
       "1698                         0.0           133.0           133.0   \n",
       "1699                         0.0           127.0           129.0   \n",
       "\n",
       "      histogram_median  histogram_variance  histogram_tendency  fetal_health  \n",
       "0                149.0                 1.0                 0.0           1.0  \n",
       "1                122.0                 6.0                 0.0           1.0  \n",
       "2                137.0                 6.0                 0.0           1.0  \n",
       "3                145.0                 1.0                 0.0           1.0  \n",
       "4                149.0                 2.0                 1.0           1.0  \n",
       "...                ...                 ...                 ...           ...  \n",
       "1695             112.0                13.0                 0.0           3.0  \n",
       "1696             147.0                20.0                 1.0           1.0  \n",
       "1697             158.0                 2.0                 0.0           1.0  \n",
       "1698             134.0                 4.0                 0.0           1.0  \n",
       "1699             131.0                 4.0                 1.0           1.0  \n",
       "\n",
       "[1700 rows x 22 columns]"
      ]
     },
     "execution_count": 11,
     "metadata": {},
     "output_type": "execute_result"
    }
   ],
   "source": [
    "df"
   ]
  },
  {
   "cell_type": "code",
   "execution_count": 14,
   "id": "90c1475f",
   "metadata": {
    "ExecuteTime": {
     "end_time": "2022-09-30T05:45:43.219391Z",
     "start_time": "2022-09-30T05:45:43.204391Z"
    }
   },
   "outputs": [],
   "source": [
    "X=df.drop('fetal_health',axis=1)\n",
    "Y=df['fetal_health']"
   ]
  },
  {
   "cell_type": "code",
   "execution_count": 15,
   "id": "20d680ad",
   "metadata": {
    "ExecuteTime": {
     "end_time": "2022-09-30T05:45:43.686818Z",
     "start_time": "2022-09-30T05:45:43.677820Z"
    }
   },
   "outputs": [],
   "source": [
    "from sklearn.preprocessing import MinMaxScaler\n",
    "scaler = MinMaxScaler()\n",
    "X=scaler.fit_transform(X)\n",
    "\n",
    "from sklearn.preprocessing import StandardScaler\n",
    "scaler=StandardScaler()\n",
    "X=scaler.fit_transform(X)"
   ]
  },
  {
   "cell_type": "code",
   "execution_count": 16,
   "id": "0fafcde4",
   "metadata": {
    "ExecuteTime": {
     "end_time": "2022-09-30T05:46:07.143318Z",
     "start_time": "2022-09-30T05:46:07.075321Z"
    }
   },
   "outputs": [],
   "source": [
    "from sklearn.model_selection import train_test_split\n",
    "x_train,x_test,y_train,y_test=train_test_split(X,Y)"
   ]
  },
  {
   "cell_type": "code",
   "execution_count": 24,
   "id": "7c3ce009",
   "metadata": {
    "ExecuteTime": {
     "end_time": "2022-09-30T06:20:40.021407Z",
     "start_time": "2022-09-30T06:20:40.014406Z"
    }
   },
   "outputs": [],
   "source": [
    "rfc=RandomForestClassifier()"
   ]
  },
  {
   "cell_type": "code",
   "execution_count": 26,
   "id": "6676dcb8",
   "metadata": {
    "ExecuteTime": {
     "end_time": "2022-09-30T06:21:07.892451Z",
     "start_time": "2022-09-30T06:21:07.693442Z"
    }
   },
   "outputs": [
    {
     "data": {
      "text/plain": [
       "RandomForestClassifier()"
      ]
     },
     "execution_count": 26,
     "metadata": {},
     "output_type": "execute_result"
    }
   ],
   "source": [
    "rfc.fit(x_train,y_train)"
   ]
  },
  {
   "cell_type": "code",
   "execution_count": 32,
   "id": "74f558da",
   "metadata": {
    "ExecuteTime": {
     "end_time": "2022-09-30T06:22:18.237521Z",
     "start_time": "2022-09-30T06:22:18.211491Z"
    }
   },
   "outputs": [
    {
     "data": {
      "text/plain": [
       "array([1., 3., 1., 1., 2., 2., 1., 1., 2., 1., 1., 3., 3., 1., 1., 1., 1.,\n",
       "       1., 1., 1., 1., 1., 2., 1., 1., 1., 1., 1., 1., 1., 1., 1., 1., 1.,\n",
       "       1., 1., 1., 1., 1., 3., 1., 1., 1., 1., 3., 1., 2., 1., 1., 3., 1.,\n",
       "       1., 1., 1., 1., 1., 2., 1., 2., 1., 1., 1., 1., 2., 1., 1., 1., 1.,\n",
       "       1., 1., 1., 1., 3., 2., 3., 2., 1., 1., 2., 1., 1., 1., 1., 1., 1.,\n",
       "       2., 1., 1., 1., 1., 1., 1., 1., 1., 2., 1., 1., 2., 1., 1., 1., 1.,\n",
       "       1., 1., 1., 1., 1., 2., 1., 1., 1., 1., 1., 1., 2., 1., 1., 1., 1.,\n",
       "       2., 1., 2., 1., 1., 3., 1., 1., 1., 1., 2., 2., 1., 1., 1., 1., 2.,\n",
       "       1., 1., 1., 2., 1., 1., 1., 1., 1., 3., 1., 1., 1., 3., 2., 1., 1.,\n",
       "       1., 1., 1., 1., 1., 3., 1., 1., 1., 1., 1., 1., 1., 1., 1., 1., 1.,\n",
       "       1., 1., 1., 1., 1., 1., 1., 1., 1., 1., 1., 3., 1., 1., 2., 1., 1.,\n",
       "       3., 1., 1., 1., 1., 3., 2., 1., 2., 1., 1., 1., 1., 1., 1., 1., 1.,\n",
       "       1., 1., 1., 3., 1., 1., 1., 1., 1., 1., 1., 1., 1., 1., 1., 1., 1.,\n",
       "       1., 1., 3., 2., 1., 1., 1., 1., 1., 1., 1., 1., 1., 1., 1., 2., 3.,\n",
       "       1., 1., 1., 1., 1., 1., 1., 1., 1., 1., 1., 3., 1., 1., 1., 1., 1.,\n",
       "       1., 3., 2., 1., 1., 1., 1., 1., 2., 1., 2., 1., 3., 1., 1., 1., 1.,\n",
       "       1., 1., 1., 1., 1., 1., 3., 1., 1., 1., 2., 1., 1., 1., 3., 1., 1.,\n",
       "       1., 2., 1., 1., 1., 1., 1., 2., 1., 1., 2., 3., 1., 3., 1., 2., 1.,\n",
       "       1., 1., 1., 1., 1., 1., 3., 2., 2., 1., 3., 1., 1., 1., 1., 1., 1.,\n",
       "       1., 1., 1., 1., 1., 1., 1., 1., 1., 1., 1., 1., 1., 1., 1., 1., 1.,\n",
       "       1., 1., 3., 1., 1., 1., 1., 1., 2., 1., 1., 1., 1., 1., 2., 1., 1.,\n",
       "       3., 1., 1., 1., 1., 1., 1., 1., 1., 1., 1., 3., 3., 1., 1., 1., 2.,\n",
       "       1., 3., 1., 1., 1., 1., 1., 1., 2., 1., 2., 1., 1., 1., 1., 2., 1.,\n",
       "       1., 1., 1., 2., 1., 1., 1., 1., 1., 1., 3., 3., 3., 1., 1., 1., 3.,\n",
       "       1., 1., 1., 1., 1., 1., 2., 1., 1., 1., 1., 2., 2., 1., 1., 1., 1.])"
      ]
     },
     "execution_count": 32,
     "metadata": {},
     "output_type": "execute_result"
    }
   ],
   "source": [
    "predict =rfc.predict(x_test)\n",
    "predict"
   ]
  },
  {
   "cell_type": "code",
   "execution_count": 31,
   "id": "880e40dd",
   "metadata": {
    "ExecuteTime": {
     "end_time": "2022-09-30T06:22:03.179656Z",
     "start_time": "2022-09-30T06:22:03.164658Z"
    }
   },
   "outputs": [
    {
     "data": {
      "text/plain": [
       "0.96"
      ]
     },
     "execution_count": 31,
     "metadata": {},
     "output_type": "execute_result"
    }
   ],
   "source": [
    "accuracy_score(y_test,predict)"
   ]
  },
  {
   "cell_type": "code",
   "execution_count": 25,
   "id": "585b48bb",
   "metadata": {
    "ExecuteTime": {
     "end_time": "2022-09-30T06:20:40.223836Z",
     "start_time": "2022-09-30T06:20:40.202836Z"
    }
   },
   "outputs": [
    {
     "name": "stderr",
     "output_type": "stream",
     "text": [
      "C:\\Users\\pbann\\Anaconda3\\lib\\site-packages\\sklearn\\svm\\_base.py:1206: ConvergenceWarning: Liblinear failed to converge, increase the number of iterations.\n",
      "  warnings.warn(\n"
     ]
    },
    {
     "data": {
      "text/plain": [
       "LinearSVC(loss='hinge')"
      ]
     },
     "execution_count": 25,
     "metadata": {},
     "output_type": "execute_result"
    }
   ],
   "source": [
    "from sklearn.svm import LinearSVC\n",
    "\n",
    "model = LinearSVC(loss='hinge', dual=True)\n",
    "model.fit(x_train, y_train)"
   ]
  },
  {
   "cell_type": "code",
   "execution_count": 18,
   "id": "eb680ae6",
   "metadata": {
    "ExecuteTime": {
     "end_time": "2022-09-30T05:46:34.430093Z",
     "start_time": "2022-09-30T05:46:34.382434Z"
    }
   },
   "outputs": [
    {
     "name": "stdout",
     "output_type": "stream",
     "text": [
      "--------------------------------------------Training Insights-----------------------------------------------------------\n",
      "              precision    recall  f1-score   support\n",
      "\n",
      "         1.0       0.95      0.94      0.95       998\n",
      "         2.0       0.69      0.65      0.67       193\n",
      "         3.0       0.73      0.90      0.81        84\n",
      "\n",
      "    accuracy                           0.90      1275\n",
      "   macro avg       0.79      0.83      0.81      1275\n",
      "weighted avg       0.90      0.90      0.90      1275\n",
      "\n",
      "------------------      Accuracy      --------- = 0.8956862745098039\n",
      "CONFUSION MATRIX\n",
      "[[940  52   6]\n",
      " [ 45 126  22]\n",
      " [  3   5  76]]\n",
      "--------------------------------------------------------------------------------------------------------------------------\n",
      "--------------------------------------------Testing Insights---------------------------------------------------------------\n",
      "              precision    recall  f1-score   support\n",
      "\n",
      "         1.0       0.96      0.95      0.95       336\n",
      "         2.0       0.72      0.62      0.67        61\n",
      "         3.0       0.62      0.82      0.71        28\n",
      "\n",
      "    accuracy                           0.90       425\n",
      "   macro avg       0.76      0.80      0.78       425\n",
      "weighted avg       0.90      0.90      0.90       425\n",
      "\n",
      "------------------      Accuracy      --------- = 0.8964705882352941\n",
      "CONFUSION MATRIX\n",
      "[[320  12   4]\n",
      " [ 13  38  10]\n",
      " [  2   3  23]]\n"
     ]
    },
    {
     "name": "stderr",
     "output_type": "stream",
     "text": [
      "C:\\Users\\pbann\\Anaconda3\\lib\\site-packages\\sklearn\\svm\\_base.py:1206: ConvergenceWarning: Liblinear failed to converge, increase the number of iterations.\n",
      "  warnings.warn(\n"
     ]
    }
   ],
   "source": [
    "from sklearn.svm import LinearSVC\n",
    "\n",
    "model = LinearSVC(loss='hinge', dual=True)\n",
    "model.fit(x_train, y_train)\n",
    "from sklearn.metrics import classification_report\n",
    "from sklearn.metrics import accuracy_score\n",
    "from sklearn.metrics import confusion_matrix\n",
    "print(\"--------------------------------------------Training Insights-----------------------------------------------------------\")\n",
    "pred=model.predict(x_train)\n",
    "print(classification_report(pred,y_train))\n",
    "Accuracy= accuracy_score(pred,y_train)\n",
    "print(\"------------------      Accuracy      --------- =\",Accuracy)\n",
    "print(\"CONFUSION MATRIX\")\n",
    "print(confusion_matrix(pred,y_train))\n",
    "print(\"--------------------------------------------------------------------------------------------------------------------------\")\n",
    "print(\"--------------------------------------------Testing Insights---------------------------------------------------------------\")\n",
    "pred=model.predict(x_test)\n",
    "print(classification_report(pred,y_test))\n",
    "Accuracy= accuracy_score(pred,y_test)\n",
    "print(\"------------------      Accuracy      --------- =\",Accuracy)\n",
    "print(\"CONFUSION MATRIX\")\n",
    "print(confusion_matrix(pred,y_test))"
   ]
  },
  {
   "cell_type": "code",
   "execution_count": 19,
   "id": "df3a6d1a",
   "metadata": {
    "ExecuteTime": {
     "end_time": "2022-09-30T05:47:04.995921Z",
     "start_time": "2022-09-30T05:47:04.884267Z"
    }
   },
   "outputs": [
    {
     "name": "stdout",
     "output_type": "stream",
     "text": [
      "--------------------------------------------Training Insights-----------------------------------------------------------\n",
      "              precision    recall  f1-score   support\n",
      "\n",
      "         1.0       0.98      0.97      0.98       994\n",
      "         2.0       0.84      0.87      0.85       178\n",
      "         3.0       0.95      0.96      0.96       103\n",
      "\n",
      "    accuracy                           0.96      1275\n",
      "   macro avg       0.92      0.93      0.93      1275\n",
      "weighted avg       0.96      0.96      0.96      1275\n",
      "\n",
      "------------------      Accuracy      --------- = 0.9584313725490196\n",
      "CONFUSION MATRIX\n",
      "[[969  25   0]\n",
      " [ 19 154   5]\n",
      " [  0   4  99]]\n",
      "--------------------------------------------------------------------------------------------------------------------------\n",
      "--------------------------------------------Testing Insights---------------------------------------------------------------\n",
      "              precision    recall  f1-score   support\n",
      "\n",
      "         1.0       0.98      0.96      0.97       340\n",
      "         2.0       0.75      0.82      0.78        49\n",
      "         3.0       0.86      0.89      0.88        36\n",
      "\n",
      "    accuracy                           0.94       425\n",
      "   macro avg       0.87      0.89      0.88       425\n",
      "weighted avg       0.94      0.94      0.94       425\n",
      "\n",
      "------------------      Accuracy      --------- = 0.9411764705882353\n",
      "CONFUSION MATRIX\n",
      "[[328   9   3]\n",
      " [  7  40   2]\n",
      " [  0   4  32]]\n"
     ]
    }
   ],
   "source": [
    "from sklearn import svm\n",
    "from sklearn.svm import LinearSVC\n",
    "model = svm.SVC(kernel='poly', degree=3.7, gamma='auto', coef0=1, C=5)\n",
    "model.fit(x_train,y_train)\n",
    "print(\"--------------------------------------------Training Insights-----------------------------------------------------------\")\n",
    "pred=model.predict(x_train)\n",
    "print(classification_report(pred,y_train))\n",
    "Accuracy= accuracy_score(pred,y_train)\n",
    "print(\"------------------      Accuracy      --------- =\",Accuracy)\n",
    "print(\"CONFUSION MATRIX\")\n",
    "print(confusion_matrix(pred,y_train))\n",
    "print(\"--------------------------------------------------------------------------------------------------------------------------\")\n",
    "print(\"--------------------------------------------Testing Insights---------------------------------------------------------------\")\n",
    "pred=model.predict(x_test)\n",
    "print(classification_report(pred,y_test))\n",
    "Accuracy= accuracy_score(pred,y_test)\n",
    "print(\"------------------      Accuracy      --------- =\",Accuracy)\n",
    "print(\"CONFUSION MATRIX\")\n",
    "print(confusion_matrix(pred,y_test))"
   ]
  },
  {
   "cell_type": "code",
   "execution_count": 20,
   "id": "39dedaae",
   "metadata": {
    "ExecuteTime": {
     "end_time": "2022-09-30T05:47:23.912826Z",
     "start_time": "2022-09-30T05:47:23.795792Z"
    }
   },
   "outputs": [
    {
     "name": "stdout",
     "output_type": "stream",
     "text": [
      "--------------------------------------------Training Insights-----------------------------------------------------------\n",
      "              precision    recall  f1-score   support\n",
      "\n",
      "         1.0       0.98      0.97      0.98       995\n",
      "         2.0       0.85      0.86      0.85       181\n",
      "         3.0       0.93      0.98      0.96        99\n",
      "\n",
      "    accuracy                           0.96      1275\n",
      "   macro avg       0.92      0.94      0.93      1275\n",
      "weighted avg       0.96      0.96      0.96      1275\n",
      "\n",
      "------------------      Accuracy      --------- = 0.9576470588235294\n",
      "CONFUSION MATRIX\n",
      "[[969  26   0]\n",
      " [ 19 155   7]\n",
      " [  0   2  97]]\n",
      "--------------------------------------------------------------------------------------------------------------------------\n",
      "--------------------------------------------Testing Insights---------------------------------------------------------------\n",
      "              precision    recall  f1-score   support\n",
      "\n",
      "         1.0       0.98      0.96      0.97       340\n",
      "         2.0       0.75      0.78      0.77        51\n",
      "         3.0       0.84      0.91      0.87        34\n",
      "\n",
      "    accuracy                           0.94       425\n",
      "   macro avg       0.86      0.89      0.87       425\n",
      "weighted avg       0.94      0.94      0.94       425\n",
      "\n",
      "------------------      Accuracy      --------- = 0.9364705882352942\n",
      "CONFUSION MATRIX\n",
      "[[327  10   3]\n",
      " [  8  40   3]\n",
      " [  0   3  31]]\n"
     ]
    }
   ],
   "source": [
    "model = svm.SVC(kernel='rbf', gamma='auto', C=9)\n",
    "model.fit(x_train, y_train)\n",
    "print(\"--------------------------------------------Training Insights-----------------------------------------------------------\")\n",
    "pred=model.predict(x_train)\n",
    "print(classification_report(pred,y_train))\n",
    "Accuracy= accuracy_score(pred,y_train)\n",
    "print(\"------------------      Accuracy      --------- =\",Accuracy)\n",
    "print(\"CONFUSION MATRIX\")\n",
    "print(confusion_matrix(pred,y_train))\n",
    "print(\"--------------------------------------------------------------------------------------------------------------------------\")\n",
    "print(\"--------------------------------------------Testing Insights---------------------------------------------------------------\")\n",
    "pred=model.predict(x_test)\n",
    "print(classification_report(pred,y_test))\n",
    "Accuracy= accuracy_score(pred,y_test)\n",
    "print(\"------------------      Accuracy      --------- =\",Accuracy)\n",
    "print(\"CONFUSION MATRIX\")\n",
    "print(confusion_matrix(pred,y_test))"
   ]
  },
  {
   "cell_type": "code",
   "execution_count": null,
   "id": "7f333bcd",
   "metadata": {},
   "outputs": [],
   "source": []
  },
  {
   "cell_type": "code",
   "execution_count": null,
   "id": "ff0267c1",
   "metadata": {},
   "outputs": [],
   "source": []
  },
  {
   "cell_type": "code",
   "execution_count": null,
   "id": "1ef30ba5",
   "metadata": {},
   "outputs": [],
   "source": []
  },
  {
   "cell_type": "code",
   "execution_count": null,
   "id": "154dff9b",
   "metadata": {},
   "outputs": [],
   "source": []
  },
  {
   "cell_type": "code",
   "execution_count": null,
   "id": "07e2f55e",
   "metadata": {},
   "outputs": [],
   "source": []
  },
  {
   "cell_type": "code",
   "execution_count": null,
   "id": "d25ad6d3",
   "metadata": {},
   "outputs": [],
   "source": []
  },
  {
   "cell_type": "code",
   "execution_count": null,
   "id": "3bd35a70",
   "metadata": {},
   "outputs": [],
   "source": []
  },
  {
   "cell_type": "code",
   "execution_count": null,
   "id": "45afb13f",
   "metadata": {},
   "outputs": [],
   "source": []
  },
  {
   "cell_type": "code",
   "execution_count": null,
   "id": "ad3319a2",
   "metadata": {},
   "outputs": [],
   "source": []
  },
  {
   "cell_type": "code",
   "execution_count": null,
   "id": "acf8a1db",
   "metadata": {},
   "outputs": [],
   "source": []
  },
  {
   "cell_type": "code",
   "execution_count": null,
   "id": "91946077",
   "metadata": {},
   "outputs": [],
   "source": []
  },
  {
   "cell_type": "code",
   "execution_count": null,
   "id": "1671f154",
   "metadata": {},
   "outputs": [],
   "source": []
  },
  {
   "cell_type": "code",
   "execution_count": null,
   "id": "d6c085d8",
   "metadata": {},
   "outputs": [],
   "source": []
  },
  {
   "cell_type": "code",
   "execution_count": null,
   "id": "ee7387f3",
   "metadata": {},
   "outputs": [],
   "source": []
  },
  {
   "cell_type": "code",
   "execution_count": null,
   "id": "c95f2472",
   "metadata": {},
   "outputs": [],
   "source": []
  },
  {
   "cell_type": "code",
   "execution_count": null,
   "id": "4ccc5263",
   "metadata": {},
   "outputs": [],
   "source": []
  },
  {
   "cell_type": "code",
   "execution_count": null,
   "id": "8023b95c",
   "metadata": {},
   "outputs": [],
   "source": []
  }
 ],
 "metadata": {
  "kernelspec": {
   "display_name": "Python 3 (ipykernel)",
   "language": "python",
   "name": "python3"
  },
  "language_info": {
   "codemirror_mode": {
    "name": "ipython",
    "version": 3
   },
   "file_extension": ".py",
   "mimetype": "text/x-python",
   "name": "python",
   "nbconvert_exporter": "python",
   "pygments_lexer": "ipython3",
   "version": "3.9.7"
  }
 },
 "nbformat": 4,
 "nbformat_minor": 5
}

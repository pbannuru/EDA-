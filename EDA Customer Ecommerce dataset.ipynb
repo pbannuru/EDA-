{
 "cells": [
  {
   "cell_type": "code",
   "execution_count": 2,
   "id": "3bf6212f",
   "metadata": {
    "ExecuteTime": {
     "end_time": "2022-06-11T16:01:26.202538Z",
     "start_time": "2022-06-11T16:01:23.404214Z"
    }
   },
   "outputs": [],
   "source": [
    "import pandas as pd\n",
    "import numpy as np\n",
    "import seaborn as sns\n",
    "import matplotlib.pyplot as plt\n",
    "from pandas_profiling import ProfileReport\n",
    "%matplotlib inline\n",
    "import missingno as msno\n",
    "pd.pandas.set_option('display.max_columns',None)\n",
    "import scipy.stats as stats"
   ]
  },
  {
   "cell_type": "code",
   "execution_count": 2,
   "id": "0f441031",
   "metadata": {
    "ExecuteTime": {
     "end_time": "2022-06-10T10:29:44.992560Z",
     "start_time": "2022-06-10T10:29:41.883629Z"
    }
   },
   "outputs": [
    {
     "name": "stderr",
     "output_type": "stream",
     "text": [
      "C:\\Users\\pbann\\Anaconda3\\lib\\site-packages\\openpyxl\\worksheet\\_reader.py:312: UserWarning: Unknown extension is not supported and will be removed\n",
      "  warn(msg)\n"
     ]
    }
   ],
   "source": [
    "df1=pd.read_excel(r'C:\\Users\\pbann\\OneDrive\\Desktop\\science\\data set\\Customer Raw data.xlsx',sheet_name='sheet1')"
   ]
  },
  {
   "cell_type": "code",
   "execution_count": 3,
   "id": "8f52075c",
   "metadata": {
    "ExecuteTime": {
     "end_time": "2022-06-10T10:29:47.583111Z",
     "start_time": "2022-06-10T10:29:47.555182Z"
    },
    "scrolled": false
   },
   "outputs": [
    {
     "data": {
      "text/html": [
       "<div>\n",
       "<style scoped>\n",
       "    .dataframe tbody tr th:only-of-type {\n",
       "        vertical-align: middle;\n",
       "    }\n",
       "\n",
       "    .dataframe tbody tr th {\n",
       "        vertical-align: top;\n",
       "    }\n",
       "\n",
       "    .dataframe thead th {\n",
       "        text-align: right;\n",
       "    }\n",
       "</style>\n",
       "<table border=\"1\" class=\"dataframe\">\n",
       "  <thead>\n",
       "    <tr style=\"text-align: right;\">\n",
       "      <th></th>\n",
       "      <th>PID</th>\n",
       "      <th>Product Name</th>\n",
       "      <th>Category</th>\n",
       "      <th>Final Price</th>\n",
       "      <th>Initial Price</th>\n",
       "      <th>Color</th>\n",
       "      <th>Primary Color</th>\n",
       "      <th>Fabric</th>\n",
       "    </tr>\n",
       "  </thead>\n",
       "  <tbody>\n",
       "    <tr>\n",
       "      <th>0</th>\n",
       "      <td>CL0036386</td>\n",
       "      <td>Ikat stripe print cotton knit dress</td>\n",
       "      <td>Dress</td>\n",
       "      <td>84.95</td>\n",
       "      <td>33.95</td>\n",
       "      <td>Blue/navy/white</td>\n",
       "      <td>Blue</td>\n",
       "      <td>Cotton Spandex</td>\n",
       "    </tr>\n",
       "    <tr>\n",
       "      <th>1</th>\n",
       "      <td>CL0030567</td>\n",
       "      <td>Feminine pleated knit dress</td>\n",
       "      <td>Dress</td>\n",
       "      <td>59.95</td>\n",
       "      <td>41.95</td>\n",
       "      <td>Navy blue</td>\n",
       "      <td>Navy blue</td>\n",
       "      <td>Cotton Spandex</td>\n",
       "    </tr>\n",
       "    <tr>\n",
       "      <th>2</th>\n",
       "      <td>CL0032320</td>\n",
       "      <td>Floral embellished chambray denim maxi dress</td>\n",
       "      <td>Dress</td>\n",
       "      <td>96.95</td>\n",
       "      <td>67.95</td>\n",
       "      <td>Deep indigo</td>\n",
       "      <td>Deep indigo</td>\n",
       "      <td>Cotton</td>\n",
       "    </tr>\n",
       "    <tr>\n",
       "      <th>3</th>\n",
       "      <td>CL0036700</td>\n",
       "      <td>Dot print cap sleeve shirt</td>\n",
       "      <td>Top</td>\n",
       "      <td>49.95</td>\n",
       "      <td>19.95</td>\n",
       "      <td>White/navy</td>\n",
       "      <td>White</td>\n",
       "      <td>Cotton</td>\n",
       "    </tr>\n",
       "    <tr>\n",
       "      <th>4</th>\n",
       "      <td>CL0036365</td>\n",
       "      <td>Layered asymmetric hem hacci knit top</td>\n",
       "      <td>Top</td>\n",
       "      <td>69.95</td>\n",
       "      <td>27.95</td>\n",
       "      <td>Blue</td>\n",
       "      <td>Blue</td>\n",
       "      <td>Polyester</td>\n",
       "    </tr>\n",
       "    <tr>\n",
       "      <th>...</th>\n",
       "      <td>...</td>\n",
       "      <td>...</td>\n",
       "      <td>...</td>\n",
       "      <td>...</td>\n",
       "      <td>...</td>\n",
       "      <td>...</td>\n",
       "      <td>...</td>\n",
       "      <td>...</td>\n",
       "    </tr>\n",
       "    <tr>\n",
       "      <th>711</th>\n",
       "      <td>CL0031288</td>\n",
       "      <td>Ruffle front poplin dress</td>\n",
       "      <td>Dress</td>\n",
       "      <td>69.95</td>\n",
       "      <td>52.95</td>\n",
       "      <td>Spring green</td>\n",
       "      <td>Spring green</td>\n",
       "      <td>Cotton</td>\n",
       "    </tr>\n",
       "    <tr>\n",
       "      <th>712</th>\n",
       "      <td>CL0032199</td>\n",
       "      <td>Beaded cotton poplin sheath dress</td>\n",
       "      <td>Dress</td>\n",
       "      <td>86.95</td>\n",
       "      <td>65.95</td>\n",
       "      <td>Spring green</td>\n",
       "      <td>Spring green</td>\n",
       "      <td>Cotton</td>\n",
       "    </tr>\n",
       "    <tr>\n",
       "      <th>713</th>\n",
       "      <td>CL0031267</td>\n",
       "      <td>Embellished stripe waist poplin dress</td>\n",
       "      <td>Dress</td>\n",
       "      <td>76.95</td>\n",
       "      <td>57.95</td>\n",
       "      <td>Spring green multi</td>\n",
       "      <td>Spring green multi</td>\n",
       "      <td>Cotton</td>\n",
       "    </tr>\n",
       "    <tr>\n",
       "      <th>714</th>\n",
       "      <td>CL0031287</td>\n",
       "      <td>Sash waist poplin skirt</td>\n",
       "      <td>Skirt</td>\n",
       "      <td>59.95</td>\n",
       "      <td>44.95</td>\n",
       "      <td>Spring green</td>\n",
       "      <td>Spring green</td>\n",
       "      <td>Cotton</td>\n",
       "    </tr>\n",
       "    <tr>\n",
       "      <th>715</th>\n",
       "      <td>CL0031947</td>\n",
       "      <td>Colorblock retro poplin frock</td>\n",
       "      <td>Dress</td>\n",
       "      <td>59.95</td>\n",
       "      <td>44.95</td>\n",
       "      <td>Black/spring green</td>\n",
       "      <td>Black</td>\n",
       "      <td>Cotton</td>\n",
       "    </tr>\n",
       "  </tbody>\n",
       "</table>\n",
       "<p>716 rows × 8 columns</p>\n",
       "</div>"
      ],
      "text/plain": [
       "           PID                                   Product Name Category  \\\n",
       "0    CL0036386            Ikat stripe print cotton knit dress    Dress   \n",
       "1    CL0030567                    Feminine pleated knit dress    Dress   \n",
       "2    CL0032320   Floral embellished chambray denim maxi dress    Dress   \n",
       "3    CL0036700                     Dot print cap sleeve shirt      Top   \n",
       "4    CL0036365          Layered asymmetric hem hacci knit top      Top   \n",
       "..         ...                                            ...      ...   \n",
       "711  CL0031288                      Ruffle front poplin dress    Dress   \n",
       "712  CL0032199              Beaded cotton poplin sheath dress    Dress   \n",
       "713  CL0031267          Embellished stripe waist poplin dress    Dress   \n",
       "714  CL0031287                        Sash waist poplin skirt    Skirt   \n",
       "715  CL0031947                  Colorblock retro poplin frock    Dress   \n",
       "\n",
       "     Final Price  Initial Price                Color        Primary Color  \\\n",
       "0          84.95          33.95      Blue/navy/white                 Blue   \n",
       "1          59.95          41.95            Navy blue            Navy blue   \n",
       "2          96.95          67.95          Deep indigo          Deep indigo   \n",
       "3          49.95          19.95           White/navy                White   \n",
       "4          69.95          27.95                 Blue                 Blue   \n",
       "..           ...            ...                  ...                  ...   \n",
       "711        69.95          52.95         Spring green         Spring green   \n",
       "712        86.95          65.95         Spring green         Spring green   \n",
       "713        76.95          57.95   Spring green multi   Spring green multi   \n",
       "714        59.95          44.95         Spring green         Spring green   \n",
       "715        59.95          44.95   Black/spring green                Black   \n",
       "\n",
       "              Fabric  \n",
       "0     Cotton Spandex  \n",
       "1     Cotton Spandex  \n",
       "2             Cotton  \n",
       "3             Cotton  \n",
       "4          Polyester  \n",
       "..               ...  \n",
       "711           Cotton  \n",
       "712           Cotton  \n",
       "713           Cotton  \n",
       "714           Cotton  \n",
       "715           Cotton  \n",
       "\n",
       "[716 rows x 8 columns]"
      ]
     },
     "execution_count": 3,
     "metadata": {},
     "output_type": "execute_result"
    }
   ],
   "source": [
    "df1"
   ]
  },
  {
   "cell_type": "code",
   "execution_count": 4,
   "id": "653dd716",
   "metadata": {
    "ExecuteTime": {
     "end_time": "2022-06-10T10:29:49.807575Z",
     "start_time": "2022-06-10T10:29:49.597931Z"
    },
    "scrolled": true
   },
   "outputs": [
    {
     "name": "stderr",
     "output_type": "stream",
     "text": [
      "C:\\Users\\pbann\\Anaconda3\\lib\\site-packages\\openpyxl\\worksheet\\_reader.py:312: UserWarning: Unknown extension is not supported and will be removed\n",
      "  warn(msg)\n"
     ]
    }
   ],
   "source": [
    "df2=pd.read_excel(r'C:\\Users\\pbann\\OneDrive\\Desktop\\science\\data set\\Customer Raw data.xlsx',sheet_name='sheet2')"
   ]
  },
  {
   "cell_type": "code",
   "execution_count": 5,
   "id": "03678d5f",
   "metadata": {
    "ExecuteTime": {
     "end_time": "2022-06-10T10:29:51.500183Z",
     "start_time": "2022-06-10T10:29:51.484668Z"
    },
    "scrolled": false
   },
   "outputs": [
    {
     "data": {
      "text/html": [
       "<div>\n",
       "<style scoped>\n",
       "    .dataframe tbody tr th:only-of-type {\n",
       "        vertical-align: middle;\n",
       "    }\n",
       "\n",
       "    .dataframe tbody tr th {\n",
       "        vertical-align: top;\n",
       "    }\n",
       "\n",
       "    .dataframe thead th {\n",
       "        text-align: right;\n",
       "    }\n",
       "</style>\n",
       "<table border=\"1\" class=\"dataframe\">\n",
       "  <thead>\n",
       "    <tr style=\"text-align: right;\">\n",
       "      <th></th>\n",
       "      <th>pId</th>\n",
       "      <th>pName</th>\n",
       "      <th>clicks</th>\n",
       "      <th>carts</th>\n",
       "      <th>orders</th>\n",
       "    </tr>\n",
       "  </thead>\n",
       "  <tbody>\n",
       "    <tr>\n",
       "      <th>0</th>\n",
       "      <td>CL0034516</td>\n",
       "      <td>Chevron stripe colorblock maxi dress</td>\n",
       "      <td>29144</td>\n",
       "      <td>2181</td>\n",
       "      <td>204</td>\n",
       "    </tr>\n",
       "    <tr>\n",
       "      <th>1</th>\n",
       "      <td>CL0037085</td>\n",
       "      <td>Chevron stripe colorblock maxi dress</td>\n",
       "      <td>25892</td>\n",
       "      <td>237</td>\n",
       "      <td>70</td>\n",
       "    </tr>\n",
       "    <tr>\n",
       "      <th>2</th>\n",
       "      <td>CL0036758</td>\n",
       "      <td>Bird print pleated cotton knit dress</td>\n",
       "      <td>16343</td>\n",
       "      <td>340</td>\n",
       "      <td>97</td>\n",
       "    </tr>\n",
       "    <tr>\n",
       "      <th>3</th>\n",
       "      <td>CL0032310</td>\n",
       "      <td>Cotton knit fit and flare dress</td>\n",
       "      <td>16234</td>\n",
       "      <td>350</td>\n",
       "      <td>99</td>\n",
       "    </tr>\n",
       "    <tr>\n",
       "      <th>4</th>\n",
       "      <td>CL0037110</td>\n",
       "      <td>Pleat front chambray denim maxi dress</td>\n",
       "      <td>13317</td>\n",
       "      <td>229</td>\n",
       "      <td>56</td>\n",
       "    </tr>\n",
       "    <tr>\n",
       "      <th>...</th>\n",
       "      <td>...</td>\n",
       "      <td>...</td>\n",
       "      <td>...</td>\n",
       "      <td>...</td>\n",
       "      <td>...</td>\n",
       "    </tr>\n",
       "    <tr>\n",
       "      <th>2496</th>\n",
       "      <td>CL0036376</td>\n",
       "      <td>Name N/A</td>\n",
       "      <td>0</td>\n",
       "      <td>0</td>\n",
       "      <td>1</td>\n",
       "    </tr>\n",
       "    <tr>\n",
       "      <th>2497</th>\n",
       "      <td>CL0035627</td>\n",
       "      <td>Heart print cotton A-line dress</td>\n",
       "      <td>0</td>\n",
       "      <td>0</td>\n",
       "      <td>1</td>\n",
       "    </tr>\n",
       "    <tr>\n",
       "      <th>2498</th>\n",
       "      <td>GC0000202</td>\n",
       "      <td>Name N/A</td>\n",
       "      <td>0</td>\n",
       "      <td>0</td>\n",
       "      <td>5</td>\n",
       "    </tr>\n",
       "    <tr>\n",
       "      <th>2499</th>\n",
       "      <td>GC0000204</td>\n",
       "      <td>Name N/A</td>\n",
       "      <td>0</td>\n",
       "      <td>0</td>\n",
       "      <td>7</td>\n",
       "    </tr>\n",
       "    <tr>\n",
       "      <th>2500</th>\n",
       "      <td>GC0000205</td>\n",
       "      <td>Name N/A</td>\n",
       "      <td>0</td>\n",
       "      <td>0</td>\n",
       "      <td>11</td>\n",
       "    </tr>\n",
       "  </tbody>\n",
       "</table>\n",
       "<p>2501 rows × 5 columns</p>\n",
       "</div>"
      ],
      "text/plain": [
       "            pId                                  pName  clicks  carts  orders\n",
       "0     CL0034516   Chevron stripe colorblock maxi dress   29144   2181     204\n",
       "1     CL0037085   Chevron stripe colorblock maxi dress   25892    237      70\n",
       "2     CL0036758   Bird print pleated cotton knit dress   16343    340      97\n",
       "3     CL0032310        Cotton knit fit and flare dress   16234    350      99\n",
       "4     CL0037110  Pleat front chambray denim maxi dress   13317    229      56\n",
       "...         ...                                    ...     ...    ...     ...\n",
       "2496  CL0036376                               Name N/A       0      0       1\n",
       "2497  CL0035627        Heart print cotton A-line dress       0      0       1\n",
       "2498  GC0000202                               Name N/A       0      0       5\n",
       "2499  GC0000204                               Name N/A       0      0       7\n",
       "2500  GC0000205                               Name N/A       0      0      11\n",
       "\n",
       "[2501 rows x 5 columns]"
      ]
     },
     "execution_count": 5,
     "metadata": {},
     "output_type": "execute_result"
    }
   ],
   "source": [
    "df2"
   ]
  },
  {
   "cell_type": "code",
   "execution_count": 6,
   "id": "9458052f",
   "metadata": {
    "ExecuteTime": {
     "end_time": "2022-06-10T10:29:58.095031Z",
     "start_time": "2022-06-10T10:29:58.079765Z"
    }
   },
   "outputs": [],
   "source": [
    "df2.rename(columns={'pId':'PID'},inplace=True)"
   ]
  },
  {
   "cell_type": "code",
   "execution_count": 7,
   "id": "78224de1",
   "metadata": {
    "ExecuteTime": {
     "end_time": "2022-06-10T10:29:58.546295Z",
     "start_time": "2022-06-10T10:29:58.532853Z"
    },
    "scrolled": true
   },
   "outputs": [
    {
     "data": {
      "text/html": [
       "<div>\n",
       "<style scoped>\n",
       "    .dataframe tbody tr th:only-of-type {\n",
       "        vertical-align: middle;\n",
       "    }\n",
       "\n",
       "    .dataframe tbody tr th {\n",
       "        vertical-align: top;\n",
       "    }\n",
       "\n",
       "    .dataframe thead th {\n",
       "        text-align: right;\n",
       "    }\n",
       "</style>\n",
       "<table border=\"1\" class=\"dataframe\">\n",
       "  <thead>\n",
       "    <tr style=\"text-align: right;\">\n",
       "      <th></th>\n",
       "      <th>PID</th>\n",
       "      <th>pName</th>\n",
       "      <th>clicks</th>\n",
       "      <th>carts</th>\n",
       "      <th>orders</th>\n",
       "    </tr>\n",
       "  </thead>\n",
       "  <tbody>\n",
       "    <tr>\n",
       "      <th>0</th>\n",
       "      <td>CL0034516</td>\n",
       "      <td>Chevron stripe colorblock maxi dress</td>\n",
       "      <td>29144</td>\n",
       "      <td>2181</td>\n",
       "      <td>204</td>\n",
       "    </tr>\n",
       "    <tr>\n",
       "      <th>1</th>\n",
       "      <td>CL0037085</td>\n",
       "      <td>Chevron stripe colorblock maxi dress</td>\n",
       "      <td>25892</td>\n",
       "      <td>237</td>\n",
       "      <td>70</td>\n",
       "    </tr>\n",
       "    <tr>\n",
       "      <th>2</th>\n",
       "      <td>CL0036758</td>\n",
       "      <td>Bird print pleated cotton knit dress</td>\n",
       "      <td>16343</td>\n",
       "      <td>340</td>\n",
       "      <td>97</td>\n",
       "    </tr>\n",
       "    <tr>\n",
       "      <th>3</th>\n",
       "      <td>CL0032310</td>\n",
       "      <td>Cotton knit fit and flare dress</td>\n",
       "      <td>16234</td>\n",
       "      <td>350</td>\n",
       "      <td>99</td>\n",
       "    </tr>\n",
       "    <tr>\n",
       "      <th>4</th>\n",
       "      <td>CL0037110</td>\n",
       "      <td>Pleat front chambray denim maxi dress</td>\n",
       "      <td>13317</td>\n",
       "      <td>229</td>\n",
       "      <td>56</td>\n",
       "    </tr>\n",
       "    <tr>\n",
       "      <th>...</th>\n",
       "      <td>...</td>\n",
       "      <td>...</td>\n",
       "      <td>...</td>\n",
       "      <td>...</td>\n",
       "      <td>...</td>\n",
       "    </tr>\n",
       "    <tr>\n",
       "      <th>2496</th>\n",
       "      <td>CL0036376</td>\n",
       "      <td>Name N/A</td>\n",
       "      <td>0</td>\n",
       "      <td>0</td>\n",
       "      <td>1</td>\n",
       "    </tr>\n",
       "    <tr>\n",
       "      <th>2497</th>\n",
       "      <td>CL0035627</td>\n",
       "      <td>Heart print cotton A-line dress</td>\n",
       "      <td>0</td>\n",
       "      <td>0</td>\n",
       "      <td>1</td>\n",
       "    </tr>\n",
       "    <tr>\n",
       "      <th>2498</th>\n",
       "      <td>GC0000202</td>\n",
       "      <td>Name N/A</td>\n",
       "      <td>0</td>\n",
       "      <td>0</td>\n",
       "      <td>5</td>\n",
       "    </tr>\n",
       "    <tr>\n",
       "      <th>2499</th>\n",
       "      <td>GC0000204</td>\n",
       "      <td>Name N/A</td>\n",
       "      <td>0</td>\n",
       "      <td>0</td>\n",
       "      <td>7</td>\n",
       "    </tr>\n",
       "    <tr>\n",
       "      <th>2500</th>\n",
       "      <td>GC0000205</td>\n",
       "      <td>Name N/A</td>\n",
       "      <td>0</td>\n",
       "      <td>0</td>\n",
       "      <td>11</td>\n",
       "    </tr>\n",
       "  </tbody>\n",
       "</table>\n",
       "<p>2501 rows × 5 columns</p>\n",
       "</div>"
      ],
      "text/plain": [
       "            PID                                  pName  clicks  carts  orders\n",
       "0     CL0034516   Chevron stripe colorblock maxi dress   29144   2181     204\n",
       "1     CL0037085   Chevron stripe colorblock maxi dress   25892    237      70\n",
       "2     CL0036758   Bird print pleated cotton knit dress   16343    340      97\n",
       "3     CL0032310        Cotton knit fit and flare dress   16234    350      99\n",
       "4     CL0037110  Pleat front chambray denim maxi dress   13317    229      56\n",
       "...         ...                                    ...     ...    ...     ...\n",
       "2496  CL0036376                               Name N/A       0      0       1\n",
       "2497  CL0035627        Heart print cotton A-line dress       0      0       1\n",
       "2498  GC0000202                               Name N/A       0      0       5\n",
       "2499  GC0000204                               Name N/A       0      0       7\n",
       "2500  GC0000205                               Name N/A       0      0      11\n",
       "\n",
       "[2501 rows x 5 columns]"
      ]
     },
     "execution_count": 7,
     "metadata": {},
     "output_type": "execute_result"
    }
   ],
   "source": [
    "df2"
   ]
  },
  {
   "cell_type": "code",
   "execution_count": 71,
   "id": "c1f526b5",
   "metadata": {
    "ExecuteTime": {
     "end_time": "2022-06-10T11:38:21.499494Z",
     "start_time": "2022-06-10T11:38:21.388856Z"
    },
    "scrolled": true
   },
   "outputs": [
    {
     "data": {
      "text/plain": [
       "<AxesSubplot:xlabel='clicks', ylabel='orders'>"
      ]
     },
     "execution_count": 71,
     "metadata": {},
     "output_type": "execute_result"
    },
    {
     "data": {
      "image/png": "[encoded data removed]",
      "text/plain": [
       "<Figure size 432x288 with 1 Axes>"
      ]
     },
     "metadata": {
      "needs_background": "light"
     },
     "output_type": "display_data"
    }
   ],
   "source": [
    "sns.scatterplot(x=df2['clicks'],y=df2['orders'])"
   ]
  },
  {
   "cell_type": "code",
   "execution_count": 75,
   "id": "aa729a04",
   "metadata": {
    "ExecuteTime": {
     "end_time": "2022-06-10T11:40:16.848435Z",
     "start_time": "2022-06-10T11:40:16.829655Z"
    }
   },
   "outputs": [
    {
     "data": {
      "text/html": [
       "<div>\n",
       "<style scoped>\n",
       "    .dataframe tbody tr th:only-of-type {\n",
       "        vertical-align: middle;\n",
       "    }\n",
       "\n",
       "    .dataframe tbody tr th {\n",
       "        vertical-align: top;\n",
       "    }\n",
       "\n",
       "    .dataframe thead th {\n",
       "        text-align: right;\n",
       "    }\n",
       "</style>\n",
       "<table border=\"1\" class=\"dataframe\">\n",
       "  <thead>\n",
       "    <tr style=\"text-align: right;\">\n",
       "      <th></th>\n",
       "      <th>PID</th>\n",
       "      <th>pName</th>\n",
       "      <th>clicks</th>\n",
       "      <th>carts</th>\n",
       "      <th>orders</th>\n",
       "    </tr>\n",
       "  </thead>\n",
       "  <tbody>\n",
       "    <tr>\n",
       "      <th>790</th>\n",
       "      <td>CL0034516_OS</td>\n",
       "      <td>Name N/A</td>\n",
       "      <td>420</td>\n",
       "      <td>0</td>\n",
       "      <td>12</td>\n",
       "    </tr>\n",
       "    <tr>\n",
       "      <th>799</th>\n",
       "      <td>CL0035152_OS</td>\n",
       "      <td>Name N/A</td>\n",
       "      <td>405</td>\n",
       "      <td>0</td>\n",
       "      <td>4</td>\n",
       "    </tr>\n",
       "    <tr>\n",
       "      <th>886</th>\n",
       "      <td>CL0034663_OS</td>\n",
       "      <td>Name N/A</td>\n",
       "      <td>311</td>\n",
       "      <td>0</td>\n",
       "      <td>0</td>\n",
       "    </tr>\n",
       "    <tr>\n",
       "      <th>904</th>\n",
       "      <td>CL0037242</td>\n",
       "      <td>Name N/A</td>\n",
       "      <td>300</td>\n",
       "      <td>4</td>\n",
       "      <td>1</td>\n",
       "    </tr>\n",
       "    <tr>\n",
       "      <th>907</th>\n",
       "      <td>CL0032845_OS</td>\n",
       "      <td>Name N/A</td>\n",
       "      <td>297</td>\n",
       "      <td>0</td>\n",
       "      <td>5</td>\n",
       "    </tr>\n",
       "    <tr>\n",
       "      <th>...</th>\n",
       "      <td>...</td>\n",
       "      <td>...</td>\n",
       "      <td>...</td>\n",
       "      <td>...</td>\n",
       "      <td>...</td>\n",
       "    </tr>\n",
       "    <tr>\n",
       "      <th>2495</th>\n",
       "      <td>CL0036125</td>\n",
       "      <td>Name N/A</td>\n",
       "      <td>0</td>\n",
       "      <td>0</td>\n",
       "      <td>3</td>\n",
       "    </tr>\n",
       "    <tr>\n",
       "      <th>2496</th>\n",
       "      <td>CL0036376</td>\n",
       "      <td>Name N/A</td>\n",
       "      <td>0</td>\n",
       "      <td>0</td>\n",
       "      <td>1</td>\n",
       "    </tr>\n",
       "    <tr>\n",
       "      <th>2498</th>\n",
       "      <td>GC0000202</td>\n",
       "      <td>Name N/A</td>\n",
       "      <td>0</td>\n",
       "      <td>0</td>\n",
       "      <td>5</td>\n",
       "    </tr>\n",
       "    <tr>\n",
       "      <th>2499</th>\n",
       "      <td>GC0000204</td>\n",
       "      <td>Name N/A</td>\n",
       "      <td>0</td>\n",
       "      <td>0</td>\n",
       "      <td>7</td>\n",
       "    </tr>\n",
       "    <tr>\n",
       "      <th>2500</th>\n",
       "      <td>GC0000205</td>\n",
       "      <td>Name N/A</td>\n",
       "      <td>0</td>\n",
       "      <td>0</td>\n",
       "      <td>11</td>\n",
       "    </tr>\n",
       "  </tbody>\n",
       "</table>\n",
       "<p>1230 rows × 5 columns</p>\n",
       "</div>"
      ],
      "text/plain": [
       "               PID     pName  clicks  carts  orders\n",
       "790   CL0034516_OS  Name N/A     420      0      12\n",
       "799   CL0035152_OS  Name N/A     405      0       4\n",
       "886   CL0034663_OS  Name N/A     311      0       0\n",
       "904      CL0037242  Name N/A     300      4       1\n",
       "907   CL0032845_OS  Name N/A     297      0       5\n",
       "...            ...       ...     ...    ...     ...\n",
       "2495     CL0036125  Name N/A       0      0       3\n",
       "2496     CL0036376  Name N/A       0      0       1\n",
       "2498     GC0000202  Name N/A       0      0       5\n",
       "2499     GC0000204  Name N/A       0      0       7\n",
       "2500     GC0000205  Name N/A       0      0      11\n",
       "\n",
       "[1230 rows x 5 columns]"
      ]
     },
     "execution_count": 75,
     "metadata": {},
     "output_type": "execute_result"
    }
   ],
   "source": [
    "df21=df2[df2['pName']=='Name N/A']\n",
    "df21"
   ]
  },
  {
   "cell_type": "code",
   "execution_count": 76,
   "id": "642571e7",
   "metadata": {
    "ExecuteTime": {
     "end_time": "2022-06-10T11:41:06.584823Z",
     "start_time": "2022-06-10T11:41:06.489794Z"
    },
    "scrolled": true
   },
   "outputs": [
    {
     "data": {
      "text/plain": [
       "<AxesSubplot:xlabel='orders', ylabel='count'>"
      ]
     },
     "execution_count": 76,
     "metadata": {},
     "output_type": "execute_result"
    },
    {
     "data": {
      "image/png": "[encoded data removed]",
      "text/plain": [
       "<Figure size 432x288 with 1 Axes>"
      ]
     },
     "metadata": {
      "needs_background": "light"
     },
     "output_type": "display_data"
    }
   ],
   "source": [
    "sns.countplot(x=df21['orders'])"
   ]
  },
  {
   "cell_type": "markdown",
   "id": "2296f33d",
   "metadata": {},
   "source": [
    "# observations: This above data shows products which are having no name has no orders."
   ]
  },
  {
   "cell_type": "code",
   "execution_count": 3,
   "id": "1dd163a1",
   "metadata": {
    "ExecuteTime": {
     "end_time": "2022-06-11T16:01:37.779941Z",
     "start_time": "2022-06-11T16:01:37.036589Z"
    }
   },
   "outputs": [
    {
     "name": "stderr",
     "output_type": "stream",
     "text": [
      "C:\\Users\\pbann\\Anaconda3\\lib\\site-packages\\openpyxl\\worksheet\\_reader.py:312: UserWarning: Unknown extension is not supported and will be removed\n",
      "  warn(msg)\n"
     ]
    },
    {
     "data": {
      "text/html": [
       "<div>\n",
       "<style scoped>\n",
       "    .dataframe tbody tr th:only-of-type {\n",
       "        vertical-align: middle;\n",
       "    }\n",
       "\n",
       "    .dataframe tbody tr th {\n",
       "        vertical-align: top;\n",
       "    }\n",
       "\n",
       "    .dataframe thead th {\n",
       "        text-align: right;\n",
       "    }\n",
       "</style>\n",
       "<table border=\"1\" class=\"dataframe\">\n",
       "  <thead>\n",
       "    <tr style=\"text-align: right;\">\n",
       "      <th></th>\n",
       "      <th>query</th>\n",
       "      <th>hits</th>\n",
       "      <th>clicks</th>\n",
       "      <th>clickThroughs</th>\n",
       "      <th>ctr</th>\n",
       "      <th>carts</th>\n",
       "      <th>orders</th>\n",
       "    </tr>\n",
       "  </thead>\n",
       "  <tbody>\n",
       "    <tr>\n",
       "      <th>0</th>\n",
       "      <td>pink</td>\n",
       "      <td>3971</td>\n",
       "      <td>330</td>\n",
       "      <td>93</td>\n",
       "      <td>2.34</td>\n",
       "      <td>18</td>\n",
       "      <td>0</td>\n",
       "    </tr>\n",
       "    <tr>\n",
       "      <th>1</th>\n",
       "      <td>Chambray</td>\n",
       "      <td>612</td>\n",
       "      <td>1360</td>\n",
       "      <td>447</td>\n",
       "      <td>73.04</td>\n",
       "      <td>145</td>\n",
       "      <td>8</td>\n",
       "    </tr>\n",
       "    <tr>\n",
       "      <th>2</th>\n",
       "      <td>gingham in green and white</td>\n",
       "      <td>601</td>\n",
       "      <td>0</td>\n",
       "      <td>0</td>\n",
       "      <td>0.00</td>\n",
       "      <td>0</td>\n",
       "      <td>0</td>\n",
       "    </tr>\n",
       "    <tr>\n",
       "      <th>3</th>\n",
       "      <td>white dresses</td>\n",
       "      <td>486</td>\n",
       "      <td>800</td>\n",
       "      <td>310</td>\n",
       "      <td>63.79</td>\n",
       "      <td>73</td>\n",
       "      <td>1</td>\n",
       "    </tr>\n",
       "    <tr>\n",
       "      <th>4</th>\n",
       "      <td>grey</td>\n",
       "      <td>480</td>\n",
       "      <td>89</td>\n",
       "      <td>28</td>\n",
       "      <td>5.83</td>\n",
       "      <td>10</td>\n",
       "      <td>0</td>\n",
       "    </tr>\n",
       "    <tr>\n",
       "      <th>...</th>\n",
       "      <td>...</td>\n",
       "      <td>...</td>\n",
       "      <td>...</td>\n",
       "      <td>...</td>\n",
       "      <td>...</td>\n",
       "      <td>...</td>\n",
       "      <td>...</td>\n",
       "    </tr>\n",
       "    <tr>\n",
       "      <th>495</th>\n",
       "      <td>Pleated knit</td>\n",
       "      <td>14</td>\n",
       "      <td>12</td>\n",
       "      <td>6</td>\n",
       "      <td>42.86</td>\n",
       "      <td>0</td>\n",
       "      <td>0</td>\n",
       "    </tr>\n",
       "    <tr>\n",
       "      <th>496</th>\n",
       "      <td>Contrast</td>\n",
       "      <td>14</td>\n",
       "      <td>27</td>\n",
       "      <td>7</td>\n",
       "      <td>50.00</td>\n",
       "      <td>4</td>\n",
       "      <td>0</td>\n",
       "    </tr>\n",
       "    <tr>\n",
       "      <th>497</th>\n",
       "      <td>1940s</td>\n",
       "      <td>14</td>\n",
       "      <td>8</td>\n",
       "      <td>4</td>\n",
       "      <td>28.57</td>\n",
       "      <td>4</td>\n",
       "      <td>0</td>\n",
       "    </tr>\n",
       "    <tr>\n",
       "      <th>498</th>\n",
       "      <td>crimson</td>\n",
       "      <td>14</td>\n",
       "      <td>19</td>\n",
       "      <td>5</td>\n",
       "      <td>35.71</td>\n",
       "      <td>8</td>\n",
       "      <td>0</td>\n",
       "    </tr>\n",
       "    <tr>\n",
       "      <th>499</th>\n",
       "      <td>watercolor</td>\n",
       "      <td>14</td>\n",
       "      <td>27</td>\n",
       "      <td>9</td>\n",
       "      <td>64.29</td>\n",
       "      <td>0</td>\n",
       "      <td>0</td>\n",
       "    </tr>\n",
       "  </tbody>\n",
       "</table>\n",
       "<p>500 rows × 7 columns</p>\n",
       "</div>"
      ],
      "text/plain": [
       "                          query  hits  clicks  clickThroughs    ctr  carts  \\\n",
       "0                         pink   3971     330             93   2.34     18   \n",
       "1                      Chambray   612    1360            447  73.04    145   \n",
       "2    gingham in green and white   601       0              0   0.00      0   \n",
       "3                 white dresses   486     800            310  63.79     73   \n",
       "4                          grey   480      89             28   5.83     10   \n",
       "..                          ...   ...     ...            ...    ...    ...   \n",
       "495                Pleated knit    14      12              6  42.86      0   \n",
       "496                   Contrast     14      27              7  50.00      4   \n",
       "497                       1940s    14       8              4  28.57      4   \n",
       "498                     crimson    14      19              5  35.71      8   \n",
       "499                 watercolor     14      27              9  64.29      0   \n",
       "\n",
       "     orders  \n",
       "0         0  \n",
       "1         8  \n",
       "2         0  \n",
       "3         1  \n",
       "4         0  \n",
       "..      ...  \n",
       "495       0  \n",
       "496       0  \n",
       "497       0  \n",
       "498       0  \n",
       "499       0  \n",
       "\n",
       "[500 rows x 7 columns]"
      ]
     },
     "execution_count": 3,
     "metadata": {},
     "output_type": "execute_result"
    }
   ],
   "source": [
    "df3=pd.read_excel(r'C:\\Users\\pbann\\OneDrive\\Desktop\\science\\data set\\Customer Raw data.xlsx',sheet_name='sheet3')\n",
    "df3"
   ]
  },
  {
   "cell_type": "code",
   "execution_count": 9,
   "id": "5ad5a40c",
   "metadata": {
    "ExecuteTime": {
     "end_time": "2022-06-10T10:30:01.380642Z",
     "start_time": "2022-06-10T10:30:01.356373Z"
    },
    "scrolled": false
   },
   "outputs": [
    {
     "data": {
      "text/html": [
       "<div>\n",
       "<style scoped>\n",
       "    .dataframe tbody tr th:only-of-type {\n",
       "        vertical-align: middle;\n",
       "    }\n",
       "\n",
       "    .dataframe tbody tr th {\n",
       "        vertical-align: top;\n",
       "    }\n",
       "\n",
       "    .dataframe thead th {\n",
       "        text-align: right;\n",
       "    }\n",
       "</style>\n",
       "<table border=\"1\" class=\"dataframe\">\n",
       "  <thead>\n",
       "    <tr style=\"text-align: right;\">\n",
       "      <th></th>\n",
       "      <th>PID</th>\n",
       "      <th>pName</th>\n",
       "      <th>clicks</th>\n",
       "      <th>carts</th>\n",
       "      <th>orders</th>\n",
       "      <th>Product Name</th>\n",
       "      <th>Category</th>\n",
       "      <th>Final Price</th>\n",
       "      <th>Initial Price</th>\n",
       "      <th>Color</th>\n",
       "      <th>Primary Color</th>\n",
       "      <th>Fabric</th>\n",
       "    </tr>\n",
       "  </thead>\n",
       "  <tbody>\n",
       "    <tr>\n",
       "      <th>0</th>\n",
       "      <td>CL0037085</td>\n",
       "      <td>Chevron stripe colorblock maxi dress</td>\n",
       "      <td>25892</td>\n",
       "      <td>237</td>\n",
       "      <td>70</td>\n",
       "      <td>Chevron stripe colorblock maxi dress</td>\n",
       "      <td>Dress</td>\n",
       "      <td>99.95</td>\n",
       "      <td>79.95</td>\n",
       "      <td>Black/white/eggplant</td>\n",
       "      <td>Black</td>\n",
       "      <td>Cotton</td>\n",
       "    </tr>\n",
       "    <tr>\n",
       "      <th>1</th>\n",
       "      <td>CL0036758</td>\n",
       "      <td>Bird print pleated cotton knit dress</td>\n",
       "      <td>16343</td>\n",
       "      <td>340</td>\n",
       "      <td>97</td>\n",
       "      <td>Seagull print pleated cotton knit dress</td>\n",
       "      <td>Dress</td>\n",
       "      <td>89.95</td>\n",
       "      <td>67.95</td>\n",
       "      <td>Light blue/white/black</td>\n",
       "      <td>Light blue</td>\n",
       "      <td>Cotton Spandex</td>\n",
       "    </tr>\n",
       "    <tr>\n",
       "      <th>2</th>\n",
       "      <td>CL0037110</td>\n",
       "      <td>Pleat front chambray denim maxi dress</td>\n",
       "      <td>13317</td>\n",
       "      <td>229</td>\n",
       "      <td>56</td>\n",
       "      <td>Pleat front chambray denim maxi dress</td>\n",
       "      <td>Dress</td>\n",
       "      <td>69.95</td>\n",
       "      <td>52.95</td>\n",
       "      <td>Indigo</td>\n",
       "      <td>Indigo</td>\n",
       "      <td>Cotton</td>\n",
       "    </tr>\n",
       "    <tr>\n",
       "      <th>3</th>\n",
       "      <td>CL0037156</td>\n",
       "      <td>Chevron stripe colorblock maxi dress</td>\n",
       "      <td>12364</td>\n",
       "      <td>172</td>\n",
       "      <td>68</td>\n",
       "      <td>Chevron stripe colorblock maxi dress</td>\n",
       "      <td>Dress</td>\n",
       "      <td>99.95</td>\n",
       "      <td>79.95</td>\n",
       "      <td>Spring green/white/deep navy</td>\n",
       "      <td>Spring green</td>\n",
       "      <td>Cotton</td>\n",
       "    </tr>\n",
       "    <tr>\n",
       "      <th>4</th>\n",
       "      <td>CL0032320</td>\n",
       "      <td>Floral embellished chambray denim maxi dress</td>\n",
       "      <td>10680</td>\n",
       "      <td>72</td>\n",
       "      <td>27</td>\n",
       "      <td>Floral embellished chambray denim maxi dress</td>\n",
       "      <td>Dress</td>\n",
       "      <td>96.95</td>\n",
       "      <td>67.95</td>\n",
       "      <td>Deep indigo</td>\n",
       "      <td>Deep indigo</td>\n",
       "      <td>Cotton</td>\n",
       "    </tr>\n",
       "    <tr>\n",
       "      <th>...</th>\n",
       "      <td>...</td>\n",
       "      <td>...</td>\n",
       "      <td>...</td>\n",
       "      <td>...</td>\n",
       "      <td>...</td>\n",
       "      <td>...</td>\n",
       "      <td>...</td>\n",
       "      <td>...</td>\n",
       "      <td>...</td>\n",
       "      <td>...</td>\n",
       "      <td>...</td>\n",
       "      <td>...</td>\n",
       "    </tr>\n",
       "    <tr>\n",
       "      <th>711</th>\n",
       "      <td>CL0036272</td>\n",
       "      <td>Olivia dress</td>\n",
       "      <td>30</td>\n",
       "      <td>0</td>\n",
       "      <td>0</td>\n",
       "      <td>Olivia dress</td>\n",
       "      <td>Dress</td>\n",
       "      <td>59.95</td>\n",
       "      <td>59.95</td>\n",
       "      <td>Khaki</td>\n",
       "      <td>Khaki</td>\n",
       "      <td>Cotton</td>\n",
       "    </tr>\n",
       "    <tr>\n",
       "      <th>712</th>\n",
       "      <td>CL0035517</td>\n",
       "      <td>Notch neck contrast trim crepe blouse</td>\n",
       "      <td>24</td>\n",
       "      <td>2</td>\n",
       "      <td>5</td>\n",
       "      <td>Notch neck contrast trim crepe blouse</td>\n",
       "      <td>Top</td>\n",
       "      <td>39.95</td>\n",
       "      <td>19.95</td>\n",
       "      <td>Lavender/white</td>\n",
       "      <td>Lavender</td>\n",
       "      <td>Polyester Spandex</td>\n",
       "    </tr>\n",
       "    <tr>\n",
       "      <th>713</th>\n",
       "      <td>CL0032128</td>\n",
       "      <td>Ribbon illusion yoke tank top</td>\n",
       "      <td>17</td>\n",
       "      <td>1</td>\n",
       "      <td>0</td>\n",
       "      <td>Ribbon illusion yoke tank top</td>\n",
       "      <td>Top</td>\n",
       "      <td>39.95</td>\n",
       "      <td>29.95</td>\n",
       "      <td>Spring green</td>\n",
       "      <td>Spring green</td>\n",
       "      <td>Cotton</td>\n",
       "    </tr>\n",
       "    <tr>\n",
       "      <th>714</th>\n",
       "      <td>CL0036879</td>\n",
       "      <td>Jersey knit surplice blouson top</td>\n",
       "      <td>15</td>\n",
       "      <td>0</td>\n",
       "      <td>4</td>\n",
       "      <td>Jersey knit surplice blouson top</td>\n",
       "      <td>Top</td>\n",
       "      <td>74.95</td>\n",
       "      <td>44.95</td>\n",
       "      <td>Loden green</td>\n",
       "      <td>Loden green</td>\n",
       "      <td>Viscose Spandex</td>\n",
       "    </tr>\n",
       "    <tr>\n",
       "      <th>715</th>\n",
       "      <td>CL0035079</td>\n",
       "      <td>Roll tab sleeve pullover shirt</td>\n",
       "      <td>14</td>\n",
       "      <td>2</td>\n",
       "      <td>0</td>\n",
       "      <td>Roll tab sleeve pullover shirt</td>\n",
       "      <td>Top</td>\n",
       "      <td>49.95</td>\n",
       "      <td>29.95</td>\n",
       "      <td>Deep olive</td>\n",
       "      <td>Deep olive</td>\n",
       "      <td>Polyester Spandex</td>\n",
       "    </tr>\n",
       "  </tbody>\n",
       "</table>\n",
       "<p>716 rows × 12 columns</p>\n",
       "</div>"
      ],
      "text/plain": [
       "           PID                                         pName  clicks  carts  \\\n",
       "0    CL0037085          Chevron stripe colorblock maxi dress   25892    237   \n",
       "1    CL0036758          Bird print pleated cotton knit dress   16343    340   \n",
       "2    CL0037110         Pleat front chambray denim maxi dress   13317    229   \n",
       "3    CL0037156          Chevron stripe colorblock maxi dress   12364    172   \n",
       "4    CL0032320  Floral embellished chambray denim maxi dress   10680     72   \n",
       "..         ...                                           ...     ...    ...   \n",
       "711  CL0036272                                  Olivia dress      30      0   \n",
       "712  CL0035517         Notch neck contrast trim crepe blouse      24      2   \n",
       "713  CL0032128                 Ribbon illusion yoke tank top      17      1   \n",
       "714  CL0036879              Jersey knit surplice blouson top      15      0   \n",
       "715  CL0035079                Roll tab sleeve pullover shirt      14      2   \n",
       "\n",
       "     orders                                   Product Name Category  \\\n",
       "0        70           Chevron stripe colorblock maxi dress    Dress   \n",
       "1        97        Seagull print pleated cotton knit dress    Dress   \n",
       "2        56          Pleat front chambray denim maxi dress    Dress   \n",
       "3        68           Chevron stripe colorblock maxi dress    Dress   \n",
       "4        27   Floral embellished chambray denim maxi dress    Dress   \n",
       "..      ...                                            ...      ...   \n",
       "711       0                                   Olivia dress    Dress   \n",
       "712       5          Notch neck contrast trim crepe blouse      Top   \n",
       "713       0                  Ribbon illusion yoke tank top      Top   \n",
       "714       4               Jersey knit surplice blouson top      Top   \n",
       "715       0                 Roll tab sleeve pullover shirt      Top   \n",
       "\n",
       "     Final Price  Initial Price                          Color  Primary Color  \\\n",
       "0          99.95          79.95           Black/white/eggplant          Black   \n",
       "1          89.95          67.95         Light blue/white/black     Light blue   \n",
       "2          69.95          52.95                         Indigo         Indigo   \n",
       "3          99.95          79.95   Spring green/white/deep navy   Spring green   \n",
       "4          96.95          67.95                    Deep indigo    Deep indigo   \n",
       "..           ...            ...                            ...            ...   \n",
       "711        59.95          59.95                          Khaki          Khaki   \n",
       "712        39.95          19.95                 Lavender/white       Lavender   \n",
       "713        39.95          29.95                   Spring green   Spring green   \n",
       "714        74.95          44.95                    Loden green    Loden green   \n",
       "715        49.95          29.95                     Deep olive     Deep olive   \n",
       "\n",
       "                 Fabric  \n",
       "0                Cotton  \n",
       "1        Cotton Spandex  \n",
       "2                Cotton  \n",
       "3                Cotton  \n",
       "4                Cotton  \n",
       "..                  ...  \n",
       "711              Cotton  \n",
       "712   Polyester Spandex  \n",
       "713              Cotton  \n",
       "714     Viscose Spandex  \n",
       "715   Polyester Spandex  \n",
       "\n",
       "[716 rows x 12 columns]"
      ]
     },
     "execution_count": 9,
     "metadata": {},
     "output_type": "execute_result"
    }
   ],
   "source": [
    "df=df2.merge(df1,on='PID')\n",
    "df"
   ]
  },
  {
   "cell_type": "code",
   "execution_count": 28,
   "id": "3f8083b5",
   "metadata": {
    "ExecuteTime": {
     "end_time": "2022-06-10T10:51:34.188537Z",
     "start_time": "2022-06-10T10:51:34.183521Z"
    }
   },
   "outputs": [],
   "source": [
    "df=df.drop(columns=['PID','pName','Product Name'])"
   ]
  },
  {
   "cell_type": "code",
   "execution_count": 70,
   "id": "a4f8c042",
   "metadata": {
    "ExecuteTime": {
     "end_time": "2022-06-10T11:37:01.692442Z",
     "start_time": "2022-06-10T11:37:01.680453Z"
    }
   },
   "outputs": [
    {
     "data": {
      "text/plain": [
       "array([' Cotton', ' Cotton Spandex', ' Polyester', ' Cotton Polyester',\n",
       "       ' Cotton Nylon', ' Silk', ' Viscose Spandex',\n",
       "       ' Polyester Crepe de Chine', ' Nylon Polyester',\n",
       "       ' Polyamide Spandex', ' Polyester Rayon Spandex',\n",
       "       ' Polyester Nylon', ' Rayon Nylon Spandex',\n",
       "       ' Cotton Polyester Spandex', ' Polyester Spandex',\n",
       "       ' Rayon Polyester Spandex', ' Nylon', ' Tencel', ' Nylon Cotton',\n",
       "       ' Rayon', ' Cotton Rayon Spandex', ' Cotton Linen',\n",
       "       ' Polyester Metallic', ' Viscose', ' Polyester Rayon',\n",
       "       ' Wool Nylon'], dtype=object)"
      ]
     },
     "execution_count": 70,
     "metadata": {},
     "output_type": "execute_result"
    }
   ],
   "source": [
    "df['Fabric'].unique()"
   ]
  },
  {
   "cell_type": "code",
   "execution_count": 69,
   "id": "553d0425",
   "metadata": {
    "ExecuteTime": {
     "end_time": "2022-06-10T11:36:55.497637Z",
     "start_time": "2022-06-10T11:36:55.476759Z"
    }
   },
   "outputs": [
    {
     "data": {
      "text/plain": [
       " Cotton                      263\n",
       " Cotton Spandex              139\n",
       " Polyester                   104\n",
       " Polyester Crepe de Chine     43\n",
       " Polyester Spandex            32\n",
       " Viscose Spandex              20\n",
       " Cotton Polyester Spandex     17\n",
       " Cotton Polyester             17\n",
       " Polyamide Spandex            12\n",
       " Rayon Nylon Spandex          12\n",
       " Silk                          7\n",
       " Rayon Polyester Spandex       7\n",
       " Rayon                         6\n",
       " Cotton Nylon                  6\n",
       " Polyester Rayon Spandex       4\n",
       " Polyester Nylon               4\n",
       " Viscose                       4\n",
       " Cotton Rayon Spandex          4\n",
       " Nylon                         3\n",
       " Tencel                        3\n",
       " Polyester Metallic            2\n",
       " Nylon Polyester               2\n",
       " Polyester Rayon               2\n",
       " Nylon Cotton                  1\n",
       " Cotton Linen                  1\n",
       " Wool Nylon                    1\n",
       "Name: Fabric, dtype: int64"
      ]
     },
     "execution_count": 69,
     "metadata": {},
     "output_type": "execute_result"
    }
   ],
   "source": [
    "df['Fabric'].value_counts()"
   ]
  },
  {
   "cell_type": "markdown",
   "id": "e5c00cbe",
   "metadata": {},
   "source": [
    "# observations: Cotton, Cotton Spandex, Polyster are the most preferred products by the customer"
   ]
  },
  {
   "cell_type": "code",
   "execution_count": 29,
   "id": "5e1e39f2",
   "metadata": {
    "ExecuteTime": {
     "end_time": "2022-06-10T10:51:37.780565Z",
     "start_time": "2022-06-10T10:51:37.672113Z"
    }
   },
   "outputs": [
    {
     "data": {
      "text/plain": [
       "<AxesSubplot:xlabel='Category', ylabel='count'>"
      ]
     },
     "execution_count": 29,
     "metadata": {},
     "output_type": "execute_result"
    },
    {
     "data": {
      "image/png": "[encoded data removed]",
      "text/plain": [
       "<Figure size 432x288 with 1 Axes>"
      ]
     },
     "metadata": {
      "needs_background": "light"
     },
     "output_type": "display_data"
    }
   ],
   "source": [
    "sns.countplot(x=df['Category'])"
   ]
  },
  {
   "cell_type": "code",
   "execution_count": 30,
   "id": "44f78b1d",
   "metadata": {
    "ExecuteTime": {
     "end_time": "2022-06-10T10:51:39.915346Z",
     "start_time": "2022-06-10T10:51:39.810484Z"
    }
   },
   "outputs": [
    {
     "data": {
      "text/plain": [
       "<AxesSubplot:xlabel='clicks', ylabel='orders'>"
      ]
     },
     "execution_count": 30,
     "metadata": {},
     "output_type": "execute_result"
    },
    {
     "data": {
      "image/png": "[encoded data removed]",
      "text/plain": [
       "<Figure size 432x288 with 1 Axes>"
      ]
     },
     "metadata": {
      "needs_background": "light"
     },
     "output_type": "display_data"
    }
   ],
   "source": [
    "sns.scatterplot(x=df['clicks'],y=df['orders'])"
   ]
  },
  {
   "cell_type": "code",
   "execution_count": 80,
   "id": "93614210",
   "metadata": {
    "ExecuteTime": {
     "end_time": "2022-06-10T11:43:59.362088Z",
     "start_time": "2022-06-10T11:43:59.350641Z"
    },
    "scrolled": true
   },
   "outputs": [
    {
     "data": {
      "text/html": [
       "<div>\n",
       "<style scoped>\n",
       "    .dataframe tbody tr th:only-of-type {\n",
       "        vertical-align: middle;\n",
       "    }\n",
       "\n",
       "    .dataframe tbody tr th {\n",
       "        vertical-align: top;\n",
       "    }\n",
       "\n",
       "    .dataframe thead th {\n",
       "        text-align: right;\n",
       "    }\n",
       "</style>\n",
       "<table border=\"1\" class=\"dataframe\">\n",
       "  <thead>\n",
       "    <tr style=\"text-align: right;\">\n",
       "      <th></th>\n",
       "      <th>Category</th>\n",
       "      <th>orders</th>\n",
       "      <th>clicks</th>\n",
       "      <th>Fabric</th>\n",
       "      <th>0</th>\n",
       "    </tr>\n",
       "  </thead>\n",
       "  <tbody>\n",
       "    <tr>\n",
       "      <th>0</th>\n",
       "      <td>Dress</td>\n",
       "      <td>0</td>\n",
       "      <td>30</td>\n",
       "      <td>Cotton</td>\n",
       "      <td>1</td>\n",
       "    </tr>\n",
       "    <tr>\n",
       "      <th>1</th>\n",
       "      <td>Dress</td>\n",
       "      <td>0</td>\n",
       "      <td>62</td>\n",
       "      <td>Cotton</td>\n",
       "      <td>1</td>\n",
       "    </tr>\n",
       "    <tr>\n",
       "      <th>2</th>\n",
       "      <td>Dress</td>\n",
       "      <td>0</td>\n",
       "      <td>91</td>\n",
       "      <td>Polyester Spandex</td>\n",
       "      <td>1</td>\n",
       "    </tr>\n",
       "    <tr>\n",
       "      <th>3</th>\n",
       "      <td>Dress</td>\n",
       "      <td>0</td>\n",
       "      <td>119</td>\n",
       "      <td>Cotton</td>\n",
       "      <td>1</td>\n",
       "    </tr>\n",
       "    <tr>\n",
       "      <th>4</th>\n",
       "      <td>Dress</td>\n",
       "      <td>0</td>\n",
       "      <td>136</td>\n",
       "      <td>Cotton</td>\n",
       "      <td>1</td>\n",
       "    </tr>\n",
       "    <tr>\n",
       "      <th>...</th>\n",
       "      <td>...</td>\n",
       "      <td>...</td>\n",
       "      <td>...</td>\n",
       "      <td>...</td>\n",
       "      <td>...</td>\n",
       "    </tr>\n",
       "    <tr>\n",
       "      <th>711</th>\n",
       "      <td>Top</td>\n",
       "      <td>14</td>\n",
       "      <td>2195</td>\n",
       "      <td>Polyester</td>\n",
       "      <td>1</td>\n",
       "    </tr>\n",
       "    <tr>\n",
       "      <th>712</th>\n",
       "      <td>Top</td>\n",
       "      <td>15</td>\n",
       "      <td>768</td>\n",
       "      <td>Cotton Spandex</td>\n",
       "      <td>1</td>\n",
       "    </tr>\n",
       "    <tr>\n",
       "      <th>713</th>\n",
       "      <td>Top</td>\n",
       "      <td>24</td>\n",
       "      <td>2051</td>\n",
       "      <td>Cotton</td>\n",
       "      <td>1</td>\n",
       "    </tr>\n",
       "    <tr>\n",
       "      <th>714</th>\n",
       "      <td>Top</td>\n",
       "      <td>26</td>\n",
       "      <td>958</td>\n",
       "      <td>Cotton Spandex</td>\n",
       "      <td>1</td>\n",
       "    </tr>\n",
       "    <tr>\n",
       "      <th>715</th>\n",
       "      <td>Top</td>\n",
       "      <td>50</td>\n",
       "      <td>4630</td>\n",
       "      <td>Polyester</td>\n",
       "      <td>1</td>\n",
       "    </tr>\n",
       "  </tbody>\n",
       "</table>\n",
       "<p>716 rows × 5 columns</p>\n",
       "</div>"
      ],
      "text/plain": [
       "    Category  orders  clicks              Fabric  0\n",
       "0      Dress       0      30              Cotton  1\n",
       "1      Dress       0      62              Cotton  1\n",
       "2      Dress       0      91   Polyester Spandex  1\n",
       "3      Dress       0     119              Cotton  1\n",
       "4      Dress       0     136              Cotton  1\n",
       "..       ...     ...     ...                 ... ..\n",
       "711      Top      14    2195           Polyester  1\n",
       "712      Top      15     768      Cotton Spandex  1\n",
       "713      Top      24    2051              Cotton  1\n",
       "714      Top      26     958      Cotton Spandex  1\n",
       "715      Top      50    4630           Polyester  1\n",
       "\n",
       "[716 rows x 5 columns]"
      ]
     },
     "execution_count": 80,
     "metadata": {},
     "output_type": "execute_result"
    }
   ],
   "source": [
    "df4= df.groupby(['Category','orders','clicks','Fabric']).size().reset_index()\n",
    "df4"
   ]
  },
  {
   "cell_type": "code",
   "execution_count": 81,
   "id": "6ef6c46d",
   "metadata": {
    "ExecuteTime": {
     "end_time": "2022-06-10T11:45:28.095857Z",
     "start_time": "2022-06-10T11:45:28.081853Z"
    }
   },
   "outputs": [
    {
     "data": {
      "text/plain": [
       "array([' Dress', ' Jacket', ' Jumpsuit', ' Pant', ' Skirt', ' Top'],\n",
       "      dtype=object)"
      ]
     },
     "execution_count": 81,
     "metadata": {},
     "output_type": "execute_result"
    }
   ],
   "source": [
    "df4['Category'].unique()"
   ]
  },
  {
   "cell_type": "code",
   "execution_count": 90,
   "id": "5cb15ea4",
   "metadata": {
    "ExecuteTime": {
     "end_time": "2022-06-10T11:47:54.803722Z",
     "start_time": "2022-06-10T11:47:54.786509Z"
    }
   },
   "outputs": [
    {
     "data": {
      "text/html": [
       "<div>\n",
       "<style scoped>\n",
       "    .dataframe tbody tr th:only-of-type {\n",
       "        vertical-align: middle;\n",
       "    }\n",
       "\n",
       "    .dataframe tbody tr th {\n",
       "        vertical-align: top;\n",
       "    }\n",
       "\n",
       "    .dataframe thead th {\n",
       "        text-align: right;\n",
       "    }\n",
       "</style>\n",
       "<table border=\"1\" class=\"dataframe\">\n",
       "  <thead>\n",
       "    <tr style=\"text-align: right;\">\n",
       "      <th></th>\n",
       "      <th>Category</th>\n",
       "      <th>orders</th>\n",
       "      <th>clicks</th>\n",
       "      <th>Fabric</th>\n",
       "      <th>0</th>\n",
       "    </tr>\n",
       "  </thead>\n",
       "  <tbody>\n",
       "    <tr>\n",
       "      <th>0</th>\n",
       "      <td>Dress</td>\n",
       "      <td>0</td>\n",
       "      <td>30</td>\n",
       "      <td>Cotton</td>\n",
       "      <td>1</td>\n",
       "    </tr>\n",
       "    <tr>\n",
       "      <th>1</th>\n",
       "      <td>Dress</td>\n",
       "      <td>0</td>\n",
       "      <td>62</td>\n",
       "      <td>Cotton</td>\n",
       "      <td>1</td>\n",
       "    </tr>\n",
       "    <tr>\n",
       "      <th>2</th>\n",
       "      <td>Dress</td>\n",
       "      <td>0</td>\n",
       "      <td>91</td>\n",
       "      <td>Polyester Spandex</td>\n",
       "      <td>1</td>\n",
       "    </tr>\n",
       "    <tr>\n",
       "      <th>3</th>\n",
       "      <td>Dress</td>\n",
       "      <td>0</td>\n",
       "      <td>119</td>\n",
       "      <td>Cotton</td>\n",
       "      <td>1</td>\n",
       "    </tr>\n",
       "    <tr>\n",
       "      <th>4</th>\n",
       "      <td>Dress</td>\n",
       "      <td>0</td>\n",
       "      <td>136</td>\n",
       "      <td>Cotton</td>\n",
       "      <td>1</td>\n",
       "    </tr>\n",
       "    <tr>\n",
       "      <th>...</th>\n",
       "      <td>...</td>\n",
       "      <td>...</td>\n",
       "      <td>...</td>\n",
       "      <td>...</td>\n",
       "      <td>...</td>\n",
       "    </tr>\n",
       "    <tr>\n",
       "      <th>423</th>\n",
       "      <td>Dress</td>\n",
       "      <td>70</td>\n",
       "      <td>25892</td>\n",
       "      <td>Cotton</td>\n",
       "      <td>1</td>\n",
       "    </tr>\n",
       "    <tr>\n",
       "      <th>424</th>\n",
       "      <td>Dress</td>\n",
       "      <td>71</td>\n",
       "      <td>8407</td>\n",
       "      <td>Cotton</td>\n",
       "      <td>1</td>\n",
       "    </tr>\n",
       "    <tr>\n",
       "      <th>425</th>\n",
       "      <td>Dress</td>\n",
       "      <td>82</td>\n",
       "      <td>8287</td>\n",
       "      <td>Cotton</td>\n",
       "      <td>1</td>\n",
       "    </tr>\n",
       "    <tr>\n",
       "      <th>426</th>\n",
       "      <td>Dress</td>\n",
       "      <td>89</td>\n",
       "      <td>9571</td>\n",
       "      <td>Cotton</td>\n",
       "      <td>1</td>\n",
       "    </tr>\n",
       "    <tr>\n",
       "      <th>427</th>\n",
       "      <td>Dress</td>\n",
       "      <td>97</td>\n",
       "      <td>16343</td>\n",
       "      <td>Cotton Spandex</td>\n",
       "      <td>1</td>\n",
       "    </tr>\n",
       "  </tbody>\n",
       "</table>\n",
       "<p>428 rows × 5 columns</p>\n",
       "</div>"
      ],
      "text/plain": [
       "    Category  orders  clicks              Fabric  0\n",
       "0      Dress       0      30              Cotton  1\n",
       "1      Dress       0      62              Cotton  1\n",
       "2      Dress       0      91   Polyester Spandex  1\n",
       "3      Dress       0     119              Cotton  1\n",
       "4      Dress       0     136              Cotton  1\n",
       "..       ...     ...     ...                 ... ..\n",
       "423    Dress      70   25892              Cotton  1\n",
       "424    Dress      71    8407              Cotton  1\n",
       "425    Dress      82    8287              Cotton  1\n",
       "426    Dress      89    9571              Cotton  1\n",
       "427    Dress      97   16343      Cotton Spandex  1\n",
       "\n",
       "[428 rows x 5 columns]"
      ]
     },
     "execution_count": 90,
     "metadata": {},
     "output_type": "execute_result"
    }
   ],
   "source": [
    "df5= df4[df4['Category']==' Dress']\n",
    "df5"
   ]
  },
  {
   "cell_type": "code",
   "execution_count": 83,
   "id": "b9ad3d16",
   "metadata": {
    "ExecuteTime": {
     "end_time": "2022-06-10T11:45:30.498660Z",
     "start_time": "2022-06-10T11:45:30.275460Z"
    },
    "scrolled": true
   },
   "outputs": [
    {
     "data": {
      "text/plain": [
       "<AxesSubplot:xlabel='Category', ylabel='orders'>"
      ]
     },
     "execution_count": 83,
     "metadata": {},
     "output_type": "execute_result"
    },
    {
     "data": {
      "image/png": "[encoded data removed]",
      "text/plain": [
       "<Figure size 432x288 with 1 Axes>"
      ]
     },
     "metadata": {
      "needs_background": "light"
     },
     "output_type": "display_data"
    }
   ],
   "source": [
    "sns.barplot(x='Category',y='orders',data=df4)"
   ]
  },
  {
   "cell_type": "markdown",
   "id": "9e6f8691",
   "metadata": {},
   "source": [
    "   # observations: Dress is having max orders, jumpsuit is having min orders\n",
    "   # preference sequence: Dress < Skirt < Top < Iacket < Pant < Jacket\n",
    "    "
   ]
  },
  {
   "cell_type": "code",
   "execution_count": 62,
   "id": "0efc7e6c",
   "metadata": {
    "ExecuteTime": {
     "end_time": "2022-06-10T11:14:13.927696Z",
     "start_time": "2022-06-10T11:14:13.703817Z"
    }
   },
   "outputs": [
    {
     "data": {
      "text/plain": [
       "<AxesSubplot:xlabel='Category', ylabel='clicks'>"
      ]
     },
     "execution_count": 62,
     "metadata": {},
     "output_type": "execute_result"
    },
    {
     "data": {
      "image/png": "[encoded data removed]",
      "text/plain": [
       "<Figure size 432x288 with 1 Axes>"
      ]
     },
     "metadata": {
      "needs_background": "light"
     },
     "output_type": "display_data"
    }
   ],
   "source": [
    "sns.barplot(x='Category',y='clicks',data=df4)"
   ]
  },
  {
   "cell_type": "markdown",
   "id": "6d63c875",
   "metadata": {},
   "source": [
    "# observations: people are watching more Dress and jumpsuit categories\n"
   ]
  },
  {
   "cell_type": "code",
   "execution_count": 65,
   "id": "c1f4678f",
   "metadata": {
    "ExecuteTime": {
     "end_time": "2022-06-10T11:32:39.969684Z",
     "start_time": "2022-06-10T11:32:39.848526Z"
    }
   },
   "outputs": [
    {
     "data": {
      "text/plain": [
       "<AxesSubplot:xlabel='clicks', ylabel='orders'>"
      ]
     },
     "execution_count": 65,
     "metadata": {},
     "output_type": "execute_result"
    },
    {
     "data": {
      "image/png": "[encoded data removed]",
      "text/plain": [
       "<Figure size 432x288 with 1 Axes>"
      ]
     },
     "metadata": {
      "needs_background": "light"
     },
     "output_type": "display_data"
    }
   ],
   "source": [
    "sns.scatterplot(y='orders',x='clicks',data=df5)"
   ]
  },
  {
   "cell_type": "markdown",
   "id": "3037590b",
   "metadata": {},
   "source": [
    "# observations: products which are getting more clicks have max order history"
   ]
  },
  {
   "cell_type": "code",
   "execution_count": null,
   "id": "2ff67a30",
   "metadata": {},
   "outputs": [],
   "source": []
  },
  {
   "cell_type": "code",
   "execution_count": null,
   "id": "8380d4ff",
   "metadata": {},
   "outputs": [],
   "source": []
  },
  {
   "cell_type": "code",
   "execution_count": null,
   "id": "4fc3bad8",
   "metadata": {},
   "outputs": [],
   "source": []
  }
 ],
 "metadata": {
  "kernelspec": {
   "display_name": "Python 3 (ipykernel)",
   "language": "python",
   "name": "python3"
  },
  "language_info": {
   "codemirror_mode": {
    "name": "ipython",
    "version": 3
   },
   "file_extension": ".py",
   "mimetype": "text/x-python",
   "name": "python",
   "nbconvert_exporter": "python",
   "pygments_lexer": "ipython3",
   "version": "3.9.7"
  }
 },
 "nbformat": 4,
 "nbformat_minor": 5
}
